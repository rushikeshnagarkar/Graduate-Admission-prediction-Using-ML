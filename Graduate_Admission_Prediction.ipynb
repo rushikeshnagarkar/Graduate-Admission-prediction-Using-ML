{
  "metadata": {
    "kernelspec": {
      "language": "python",
      "display_name": "Python 3",
      "name": "python3"
    },
    "language_info": {
      "name": "python",
      "version": "3.10.12",
      "mimetype": "text/x-python",
      "codemirror_mode": {
        "name": "ipython",
        "version": 3
      },
      "pygments_lexer": "ipython3",
      "nbconvert_exporter": "python",
      "file_extension": ".py"
    },
    "kaggle": {
      "accelerator": "none",
      "dataSources": [
        {
          "sourceId": 228180,
          "sourceType": "datasetVersion",
          "datasetId": 14872
        }
      ],
      "dockerImageVersionId": 30626,
      "isInternetEnabled": true,
      "language": "python",
      "sourceType": "notebook",
      "isGpuEnabled": false
    },
    "colab": {
      "provenance": []
    }
  },
  "nbformat_minor": 0,
  "nbformat": 4,
  "cells": [
    {
      "cell_type": "markdown",
      "source": [
        "**Importing Libraries**"
      ],
      "metadata": {
        "id": "T2bsabWxPN7n"
      }
    },
    {
      "cell_type": "code",
      "source": [
        "import numpy as np\n",
        "import pandas as pd\n",
        "import matplotlib.pyplot as plt\n",
        "import seaborn as sns\n",
        "from collections import Counter"
      ],
      "metadata": {
        "_uuid": "8f2839f25d086af736a60e9eeb907d3b93b6e0e5",
        "_cell_guid": "b1076dfc-b9ad-4769-8c92-a6c4dae69d19",
        "execution": {
          "iopub.status.busy": "2024-01-03T23:24:53.853445Z",
          "iopub.execute_input": "2024-01-03T23:24:53.853889Z",
          "iopub.status.idle": "2024-01-03T23:24:53.859353Z",
          "shell.execute_reply.started": "2024-01-03T23:24:53.853852Z",
          "shell.execute_reply": "2024-01-03T23:24:53.858400Z"
        },
        "trusted": true,
        "id": "nkqzhHzbPN7w"
      },
      "execution_count": 4,
      "outputs": []
    },
    {
      "cell_type": "markdown",
      "source": [
        "**Importing Dataset**"
      ],
      "metadata": {
        "id": "_9huMBmPPN7y"
      }
    },
    {
      "cell_type": "code",
      "source": [
        "df = pd.read_csv(\"/content/Admission_Predict.csv\")\n",
        "df.head() #printing the first five rows"
      ],
      "metadata": {
        "execution": {
          "iopub.status.busy": "2024-01-03T23:24:53.868274Z",
          "iopub.execute_input": "2024-01-03T23:24:53.868667Z",
          "iopub.status.idle": "2024-01-03T23:24:53.906698Z",
          "shell.execute_reply.started": "2024-01-03T23:24:53.868634Z",
          "shell.execute_reply": "2024-01-03T23:24:53.905715Z"
        },
        "trusted": true,
        "colab": {
          "base_uri": "https://localhost:8080/",
          "height": 206
        },
        "id": "d1qaIMI4PN7z",
        "outputId": "d2a561b4-18ae-401e-d356-6681b50645df"
      },
      "execution_count": 5,
      "outputs": [
        {
          "output_type": "execute_result",
          "data": {
            "text/plain": [
              "   Serial No.  GRE Score  TOEFL Score  University Rating  SOP  LOR   CGPA  \\\n",
              "0           1        337          118                  4  4.5   4.5  9.65   \n",
              "1           2        324          107                  4  4.0   4.5  8.87   \n",
              "2           3        316          104                  3  3.0   3.5  8.00   \n",
              "3           4        322          110                  3  3.5   2.5  8.67   \n",
              "4           5        314          103                  2  2.0   3.0  8.21   \n",
              "\n",
              "   Research  Chance of Admit   \n",
              "0         1              0.92  \n",
              "1         1              0.76  \n",
              "2         1              0.72  \n",
              "3         1              0.80  \n",
              "4         0              0.65  "
            ],
            "text/html": [
              "\n",
              "  <div id=\"df-55f39226-cdc2-475c-af67-684d1c93cd12\" class=\"colab-df-container\">\n",
              "    <div>\n",
              "<style scoped>\n",
              "    .dataframe tbody tr th:only-of-type {\n",
              "        vertical-align: middle;\n",
              "    }\n",
              "\n",
              "    .dataframe tbody tr th {\n",
              "        vertical-align: top;\n",
              "    }\n",
              "\n",
              "    .dataframe thead th {\n",
              "        text-align: right;\n",
              "    }\n",
              "</style>\n",
              "<table border=\"1\" class=\"dataframe\">\n",
              "  <thead>\n",
              "    <tr style=\"text-align: right;\">\n",
              "      <th></th>\n",
              "      <th>Serial No.</th>\n",
              "      <th>GRE Score</th>\n",
              "      <th>TOEFL Score</th>\n",
              "      <th>University Rating</th>\n",
              "      <th>SOP</th>\n",
              "      <th>LOR</th>\n",
              "      <th>CGPA</th>\n",
              "      <th>Research</th>\n",
              "      <th>Chance of Admit</th>\n",
              "    </tr>\n",
              "  </thead>\n",
              "  <tbody>\n",
              "    <tr>\n",
              "      <th>0</th>\n",
              "      <td>1</td>\n",
              "      <td>337</td>\n",
              "      <td>118</td>\n",
              "      <td>4</td>\n",
              "      <td>4.5</td>\n",
              "      <td>4.5</td>\n",
              "      <td>9.65</td>\n",
              "      <td>1</td>\n",
              "      <td>0.92</td>\n",
              "    </tr>\n",
              "    <tr>\n",
              "      <th>1</th>\n",
              "      <td>2</td>\n",
              "      <td>324</td>\n",
              "      <td>107</td>\n",
              "      <td>4</td>\n",
              "      <td>4.0</td>\n",
              "      <td>4.5</td>\n",
              "      <td>8.87</td>\n",
              "      <td>1</td>\n",
              "      <td>0.76</td>\n",
              "    </tr>\n",
              "    <tr>\n",
              "      <th>2</th>\n",
              "      <td>3</td>\n",
              "      <td>316</td>\n",
              "      <td>104</td>\n",
              "      <td>3</td>\n",
              "      <td>3.0</td>\n",
              "      <td>3.5</td>\n",
              "      <td>8.00</td>\n",
              "      <td>1</td>\n",
              "      <td>0.72</td>\n",
              "    </tr>\n",
              "    <tr>\n",
              "      <th>3</th>\n",
              "      <td>4</td>\n",
              "      <td>322</td>\n",
              "      <td>110</td>\n",
              "      <td>3</td>\n",
              "      <td>3.5</td>\n",
              "      <td>2.5</td>\n",
              "      <td>8.67</td>\n",
              "      <td>1</td>\n",
              "      <td>0.80</td>\n",
              "    </tr>\n",
              "    <tr>\n",
              "      <th>4</th>\n",
              "      <td>5</td>\n",
              "      <td>314</td>\n",
              "      <td>103</td>\n",
              "      <td>2</td>\n",
              "      <td>2.0</td>\n",
              "      <td>3.0</td>\n",
              "      <td>8.21</td>\n",
              "      <td>0</td>\n",
              "      <td>0.65</td>\n",
              "    </tr>\n",
              "  </tbody>\n",
              "</table>\n",
              "</div>\n",
              "    <div class=\"colab-df-buttons\">\n",
              "\n",
              "  <div class=\"colab-df-container\">\n",
              "    <button class=\"colab-df-convert\" onclick=\"convertToInteractive('df-55f39226-cdc2-475c-af67-684d1c93cd12')\"\n",
              "            title=\"Convert this dataframe to an interactive table.\"\n",
              "            style=\"display:none;\">\n",
              "\n",
              "  <svg xmlns=\"http://www.w3.org/2000/svg\" height=\"24px\" viewBox=\"0 -960 960 960\">\n",
              "    <path d=\"M120-120v-720h720v720H120Zm60-500h600v-160H180v160Zm220 220h160v-160H400v160Zm0 220h160v-160H400v160ZM180-400h160v-160H180v160Zm440 0h160v-160H620v160ZM180-180h160v-160H180v160Zm440 0h160v-160H620v160Z\"/>\n",
              "  </svg>\n",
              "    </button>\n",
              "\n",
              "  <style>\n",
              "    .colab-df-container {\n",
              "      display:flex;\n",
              "      gap: 12px;\n",
              "    }\n",
              "\n",
              "    .colab-df-convert {\n",
              "      background-color: #E8F0FE;\n",
              "      border: none;\n",
              "      border-radius: 50%;\n",
              "      cursor: pointer;\n",
              "      display: none;\n",
              "      fill: #1967D2;\n",
              "      height: 32px;\n",
              "      padding: 0 0 0 0;\n",
              "      width: 32px;\n",
              "    }\n",
              "\n",
              "    .colab-df-convert:hover {\n",
              "      background-color: #E2EBFA;\n",
              "      box-shadow: 0px 1px 2px rgba(60, 64, 67, 0.3), 0px 1px 3px 1px rgba(60, 64, 67, 0.15);\n",
              "      fill: #174EA6;\n",
              "    }\n",
              "\n",
              "    .colab-df-buttons div {\n",
              "      margin-bottom: 4px;\n",
              "    }\n",
              "\n",
              "    [theme=dark] .colab-df-convert {\n",
              "      background-color: #3B4455;\n",
              "      fill: #D2E3FC;\n",
              "    }\n",
              "\n",
              "    [theme=dark] .colab-df-convert:hover {\n",
              "      background-color: #434B5C;\n",
              "      box-shadow: 0px 1px 3px 1px rgba(0, 0, 0, 0.15);\n",
              "      filter: drop-shadow(0px 1px 2px rgba(0, 0, 0, 0.3));\n",
              "      fill: #FFFFFF;\n",
              "    }\n",
              "  </style>\n",
              "\n",
              "    <script>\n",
              "      const buttonEl =\n",
              "        document.querySelector('#df-55f39226-cdc2-475c-af67-684d1c93cd12 button.colab-df-convert');\n",
              "      buttonEl.style.display =\n",
              "        google.colab.kernel.accessAllowed ? 'block' : 'none';\n",
              "\n",
              "      async function convertToInteractive(key) {\n",
              "        const element = document.querySelector('#df-55f39226-cdc2-475c-af67-684d1c93cd12');\n",
              "        const dataTable =\n",
              "          await google.colab.kernel.invokeFunction('convertToInteractive',\n",
              "                                                    [key], {});\n",
              "        if (!dataTable) return;\n",
              "\n",
              "        const docLinkHtml = 'Like what you see? Visit the ' +\n",
              "          '<a target=\"_blank\" href=https://colab.research.google.com/notebooks/data_table.ipynb>data table notebook</a>'\n",
              "          + ' to learn more about interactive tables.';\n",
              "        element.innerHTML = '';\n",
              "        dataTable['output_type'] = 'display_data';\n",
              "        await google.colab.output.renderOutput(dataTable, element);\n",
              "        const docLink = document.createElement('div');\n",
              "        docLink.innerHTML = docLinkHtml;\n",
              "        element.appendChild(docLink);\n",
              "      }\n",
              "    </script>\n",
              "  </div>\n",
              "\n",
              "\n",
              "<div id=\"df-78e30d1e-27d6-4c9a-aecc-5f72c8d61e6f\">\n",
              "  <button class=\"colab-df-quickchart\" onclick=\"quickchart('df-78e30d1e-27d6-4c9a-aecc-5f72c8d61e6f')\"\n",
              "            title=\"Suggest charts\"\n",
              "            style=\"display:none;\">\n",
              "\n",
              "<svg xmlns=\"http://www.w3.org/2000/svg\" height=\"24px\"viewBox=\"0 0 24 24\"\n",
              "     width=\"24px\">\n",
              "    <g>\n",
              "        <path d=\"M19 3H5c-1.1 0-2 .9-2 2v14c0 1.1.9 2 2 2h14c1.1 0 2-.9 2-2V5c0-1.1-.9-2-2-2zM9 17H7v-7h2v7zm4 0h-2V7h2v10zm4 0h-2v-4h2v4z\"/>\n",
              "    </g>\n",
              "</svg>\n",
              "  </button>\n",
              "\n",
              "<style>\n",
              "  .colab-df-quickchart {\n",
              "      --bg-color: #E8F0FE;\n",
              "      --fill-color: #1967D2;\n",
              "      --hover-bg-color: #E2EBFA;\n",
              "      --hover-fill-color: #174EA6;\n",
              "      --disabled-fill-color: #AAA;\n",
              "      --disabled-bg-color: #DDD;\n",
              "  }\n",
              "\n",
              "  [theme=dark] .colab-df-quickchart {\n",
              "      --bg-color: #3B4455;\n",
              "      --fill-color: #D2E3FC;\n",
              "      --hover-bg-color: #434B5C;\n",
              "      --hover-fill-color: #FFFFFF;\n",
              "      --disabled-bg-color: #3B4455;\n",
              "      --disabled-fill-color: #666;\n",
              "  }\n",
              "\n",
              "  .colab-df-quickchart {\n",
              "    background-color: var(--bg-color);\n",
              "    border: none;\n",
              "    border-radius: 50%;\n",
              "    cursor: pointer;\n",
              "    display: none;\n",
              "    fill: var(--fill-color);\n",
              "    height: 32px;\n",
              "    padding: 0;\n",
              "    width: 32px;\n",
              "  }\n",
              "\n",
              "  .colab-df-quickchart:hover {\n",
              "    background-color: var(--hover-bg-color);\n",
              "    box-shadow: 0 1px 2px rgba(60, 64, 67, 0.3), 0 1px 3px 1px rgba(60, 64, 67, 0.15);\n",
              "    fill: var(--button-hover-fill-color);\n",
              "  }\n",
              "\n",
              "  .colab-df-quickchart-complete:disabled,\n",
              "  .colab-df-quickchart-complete:disabled:hover {\n",
              "    background-color: var(--disabled-bg-color);\n",
              "    fill: var(--disabled-fill-color);\n",
              "    box-shadow: none;\n",
              "  }\n",
              "\n",
              "  .colab-df-spinner {\n",
              "    border: 2px solid var(--fill-color);\n",
              "    border-color: transparent;\n",
              "    border-bottom-color: var(--fill-color);\n",
              "    animation:\n",
              "      spin 1s steps(1) infinite;\n",
              "  }\n",
              "\n",
              "  @keyframes spin {\n",
              "    0% {\n",
              "      border-color: transparent;\n",
              "      border-bottom-color: var(--fill-color);\n",
              "      border-left-color: var(--fill-color);\n",
              "    }\n",
              "    20% {\n",
              "      border-color: transparent;\n",
              "      border-left-color: var(--fill-color);\n",
              "      border-top-color: var(--fill-color);\n",
              "    }\n",
              "    30% {\n",
              "      border-color: transparent;\n",
              "      border-left-color: var(--fill-color);\n",
              "      border-top-color: var(--fill-color);\n",
              "      border-right-color: var(--fill-color);\n",
              "    }\n",
              "    40% {\n",
              "      border-color: transparent;\n",
              "      border-right-color: var(--fill-color);\n",
              "      border-top-color: var(--fill-color);\n",
              "    }\n",
              "    60% {\n",
              "      border-color: transparent;\n",
              "      border-right-color: var(--fill-color);\n",
              "    }\n",
              "    80% {\n",
              "      border-color: transparent;\n",
              "      border-right-color: var(--fill-color);\n",
              "      border-bottom-color: var(--fill-color);\n",
              "    }\n",
              "    90% {\n",
              "      border-color: transparent;\n",
              "      border-bottom-color: var(--fill-color);\n",
              "    }\n",
              "  }\n",
              "</style>\n",
              "\n",
              "  <script>\n",
              "    async function quickchart(key) {\n",
              "      const quickchartButtonEl =\n",
              "        document.querySelector('#' + key + ' button');\n",
              "      quickchartButtonEl.disabled = true;  // To prevent multiple clicks.\n",
              "      quickchartButtonEl.classList.add('colab-df-spinner');\n",
              "      try {\n",
              "        const charts = await google.colab.kernel.invokeFunction(\n",
              "            'suggestCharts', [key], {});\n",
              "      } catch (error) {\n",
              "        console.error('Error during call to suggestCharts:', error);\n",
              "      }\n",
              "      quickchartButtonEl.classList.remove('colab-df-spinner');\n",
              "      quickchartButtonEl.classList.add('colab-df-quickchart-complete');\n",
              "    }\n",
              "    (() => {\n",
              "      let quickchartButtonEl =\n",
              "        document.querySelector('#df-78e30d1e-27d6-4c9a-aecc-5f72c8d61e6f button');\n",
              "      quickchartButtonEl.style.display =\n",
              "        google.colab.kernel.accessAllowed ? 'block' : 'none';\n",
              "    })();\n",
              "  </script>\n",
              "</div>\n",
              "\n",
              "    </div>\n",
              "  </div>\n"
            ]
          },
          "metadata": {},
          "execution_count": 5
        }
      ]
    },
    {
      "cell_type": "code",
      "source": [
        "df.describe()"
      ],
      "metadata": {
        "execution": {
          "iopub.status.busy": "2024-01-03T23:24:53.911150Z",
          "iopub.execute_input": "2024-01-03T23:24:53.911665Z",
          "iopub.status.idle": "2024-01-03T23:24:53.954373Z",
          "shell.execute_reply.started": "2024-01-03T23:24:53.911615Z",
          "shell.execute_reply": "2024-01-03T23:24:53.953245Z"
        },
        "trusted": true,
        "colab": {
          "base_uri": "https://localhost:8080/",
          "height": 318
        },
        "id": "-LbkoJE5PN70",
        "outputId": "ea6f9d7c-f44e-4157-ddb5-cb4dcb5a1e12"
      },
      "execution_count": 6,
      "outputs": [
        {
          "output_type": "execute_result",
          "data": {
            "text/plain": [
              "       Serial No.   GRE Score  TOEFL Score  University Rating         SOP  \\\n",
              "count  400.000000  400.000000   400.000000         400.000000  400.000000   \n",
              "mean   200.500000  316.807500   107.410000           3.087500    3.400000   \n",
              "std    115.614301   11.473646     6.069514           1.143728    1.006869   \n",
              "min      1.000000  290.000000    92.000000           1.000000    1.000000   \n",
              "25%    100.750000  308.000000   103.000000           2.000000    2.500000   \n",
              "50%    200.500000  317.000000   107.000000           3.000000    3.500000   \n",
              "75%    300.250000  325.000000   112.000000           4.000000    4.000000   \n",
              "max    400.000000  340.000000   120.000000           5.000000    5.000000   \n",
              "\n",
              "             LOR         CGPA    Research  Chance of Admit   \n",
              "count  400.000000  400.000000  400.000000        400.000000  \n",
              "mean     3.452500    8.598925    0.547500          0.724350  \n",
              "std      0.898478    0.596317    0.498362          0.142609  \n",
              "min      1.000000    6.800000    0.000000          0.340000  \n",
              "25%      3.000000    8.170000    0.000000          0.640000  \n",
              "50%      3.500000    8.610000    1.000000          0.730000  \n",
              "75%      4.000000    9.062500    1.000000          0.830000  \n",
              "max      5.000000    9.920000    1.000000          0.970000  "
            ],
            "text/html": [
              "\n",
              "  <div id=\"df-ca0a5406-f663-4955-b50e-2908d89c4b63\" class=\"colab-df-container\">\n",
              "    <div>\n",
              "<style scoped>\n",
              "    .dataframe tbody tr th:only-of-type {\n",
              "        vertical-align: middle;\n",
              "    }\n",
              "\n",
              "    .dataframe tbody tr th {\n",
              "        vertical-align: top;\n",
              "    }\n",
              "\n",
              "    .dataframe thead th {\n",
              "        text-align: right;\n",
              "    }\n",
              "</style>\n",
              "<table border=\"1\" class=\"dataframe\">\n",
              "  <thead>\n",
              "    <tr style=\"text-align: right;\">\n",
              "      <th></th>\n",
              "      <th>Serial No.</th>\n",
              "      <th>GRE Score</th>\n",
              "      <th>TOEFL Score</th>\n",
              "      <th>University Rating</th>\n",
              "      <th>SOP</th>\n",
              "      <th>LOR</th>\n",
              "      <th>CGPA</th>\n",
              "      <th>Research</th>\n",
              "      <th>Chance of Admit</th>\n",
              "    </tr>\n",
              "  </thead>\n",
              "  <tbody>\n",
              "    <tr>\n",
              "      <th>count</th>\n",
              "      <td>400.000000</td>\n",
              "      <td>400.000000</td>\n",
              "      <td>400.000000</td>\n",
              "      <td>400.000000</td>\n",
              "      <td>400.000000</td>\n",
              "      <td>400.000000</td>\n",
              "      <td>400.000000</td>\n",
              "      <td>400.000000</td>\n",
              "      <td>400.000000</td>\n",
              "    </tr>\n",
              "    <tr>\n",
              "      <th>mean</th>\n",
              "      <td>200.500000</td>\n",
              "      <td>316.807500</td>\n",
              "      <td>107.410000</td>\n",
              "      <td>3.087500</td>\n",
              "      <td>3.400000</td>\n",
              "      <td>3.452500</td>\n",
              "      <td>8.598925</td>\n",
              "      <td>0.547500</td>\n",
              "      <td>0.724350</td>\n",
              "    </tr>\n",
              "    <tr>\n",
              "      <th>std</th>\n",
              "      <td>115.614301</td>\n",
              "      <td>11.473646</td>\n",
              "      <td>6.069514</td>\n",
              "      <td>1.143728</td>\n",
              "      <td>1.006869</td>\n",
              "      <td>0.898478</td>\n",
              "      <td>0.596317</td>\n",
              "      <td>0.498362</td>\n",
              "      <td>0.142609</td>\n",
              "    </tr>\n",
              "    <tr>\n",
              "      <th>min</th>\n",
              "      <td>1.000000</td>\n",
              "      <td>290.000000</td>\n",
              "      <td>92.000000</td>\n",
              "      <td>1.000000</td>\n",
              "      <td>1.000000</td>\n",
              "      <td>1.000000</td>\n",
              "      <td>6.800000</td>\n",
              "      <td>0.000000</td>\n",
              "      <td>0.340000</td>\n",
              "    </tr>\n",
              "    <tr>\n",
              "      <th>25%</th>\n",
              "      <td>100.750000</td>\n",
              "      <td>308.000000</td>\n",
              "      <td>103.000000</td>\n",
              "      <td>2.000000</td>\n",
              "      <td>2.500000</td>\n",
              "      <td>3.000000</td>\n",
              "      <td>8.170000</td>\n",
              "      <td>0.000000</td>\n",
              "      <td>0.640000</td>\n",
              "    </tr>\n",
              "    <tr>\n",
              "      <th>50%</th>\n",
              "      <td>200.500000</td>\n",
              "      <td>317.000000</td>\n",
              "      <td>107.000000</td>\n",
              "      <td>3.000000</td>\n",
              "      <td>3.500000</td>\n",
              "      <td>3.500000</td>\n",
              "      <td>8.610000</td>\n",
              "      <td>1.000000</td>\n",
              "      <td>0.730000</td>\n",
              "    </tr>\n",
              "    <tr>\n",
              "      <th>75%</th>\n",
              "      <td>300.250000</td>\n",
              "      <td>325.000000</td>\n",
              "      <td>112.000000</td>\n",
              "      <td>4.000000</td>\n",
              "      <td>4.000000</td>\n",
              "      <td>4.000000</td>\n",
              "      <td>9.062500</td>\n",
              "      <td>1.000000</td>\n",
              "      <td>0.830000</td>\n",
              "    </tr>\n",
              "    <tr>\n",
              "      <th>max</th>\n",
              "      <td>400.000000</td>\n",
              "      <td>340.000000</td>\n",
              "      <td>120.000000</td>\n",
              "      <td>5.000000</td>\n",
              "      <td>5.000000</td>\n",
              "      <td>5.000000</td>\n",
              "      <td>9.920000</td>\n",
              "      <td>1.000000</td>\n",
              "      <td>0.970000</td>\n",
              "    </tr>\n",
              "  </tbody>\n",
              "</table>\n",
              "</div>\n",
              "    <div class=\"colab-df-buttons\">\n",
              "\n",
              "  <div class=\"colab-df-container\">\n",
              "    <button class=\"colab-df-convert\" onclick=\"convertToInteractive('df-ca0a5406-f663-4955-b50e-2908d89c4b63')\"\n",
              "            title=\"Convert this dataframe to an interactive table.\"\n",
              "            style=\"display:none;\">\n",
              "\n",
              "  <svg xmlns=\"http://www.w3.org/2000/svg\" height=\"24px\" viewBox=\"0 -960 960 960\">\n",
              "    <path d=\"M120-120v-720h720v720H120Zm60-500h600v-160H180v160Zm220 220h160v-160H400v160Zm0 220h160v-160H400v160ZM180-400h160v-160H180v160Zm440 0h160v-160H620v160ZM180-180h160v-160H180v160Zm440 0h160v-160H620v160Z\"/>\n",
              "  </svg>\n",
              "    </button>\n",
              "\n",
              "  <style>\n",
              "    .colab-df-container {\n",
              "      display:flex;\n",
              "      gap: 12px;\n",
              "    }\n",
              "\n",
              "    .colab-df-convert {\n",
              "      background-color: #E8F0FE;\n",
              "      border: none;\n",
              "      border-radius: 50%;\n",
              "      cursor: pointer;\n",
              "      display: none;\n",
              "      fill: #1967D2;\n",
              "      height: 32px;\n",
              "      padding: 0 0 0 0;\n",
              "      width: 32px;\n",
              "    }\n",
              "\n",
              "    .colab-df-convert:hover {\n",
              "      background-color: #E2EBFA;\n",
              "      box-shadow: 0px 1px 2px rgba(60, 64, 67, 0.3), 0px 1px 3px 1px rgba(60, 64, 67, 0.15);\n",
              "      fill: #174EA6;\n",
              "    }\n",
              "\n",
              "    .colab-df-buttons div {\n",
              "      margin-bottom: 4px;\n",
              "    }\n",
              "\n",
              "    [theme=dark] .colab-df-convert {\n",
              "      background-color: #3B4455;\n",
              "      fill: #D2E3FC;\n",
              "    }\n",
              "\n",
              "    [theme=dark] .colab-df-convert:hover {\n",
              "      background-color: #434B5C;\n",
              "      box-shadow: 0px 1px 3px 1px rgba(0, 0, 0, 0.15);\n",
              "      filter: drop-shadow(0px 1px 2px rgba(0, 0, 0, 0.3));\n",
              "      fill: #FFFFFF;\n",
              "    }\n",
              "  </style>\n",
              "\n",
              "    <script>\n",
              "      const buttonEl =\n",
              "        document.querySelector('#df-ca0a5406-f663-4955-b50e-2908d89c4b63 button.colab-df-convert');\n",
              "      buttonEl.style.display =\n",
              "        google.colab.kernel.accessAllowed ? 'block' : 'none';\n",
              "\n",
              "      async function convertToInteractive(key) {\n",
              "        const element = document.querySelector('#df-ca0a5406-f663-4955-b50e-2908d89c4b63');\n",
              "        const dataTable =\n",
              "          await google.colab.kernel.invokeFunction('convertToInteractive',\n",
              "                                                    [key], {});\n",
              "        if (!dataTable) return;\n",
              "\n",
              "        const docLinkHtml = 'Like what you see? Visit the ' +\n",
              "          '<a target=\"_blank\" href=https://colab.research.google.com/notebooks/data_table.ipynb>data table notebook</a>'\n",
              "          + ' to learn more about interactive tables.';\n",
              "        element.innerHTML = '';\n",
              "        dataTable['output_type'] = 'display_data';\n",
              "        await google.colab.output.renderOutput(dataTable, element);\n",
              "        const docLink = document.createElement('div');\n",
              "        docLink.innerHTML = docLinkHtml;\n",
              "        element.appendChild(docLink);\n",
              "      }\n",
              "    </script>\n",
              "  </div>\n",
              "\n",
              "\n",
              "<div id=\"df-bec06b6d-e5fb-4929-ad18-aa48e022acd2\">\n",
              "  <button class=\"colab-df-quickchart\" onclick=\"quickchart('df-bec06b6d-e5fb-4929-ad18-aa48e022acd2')\"\n",
              "            title=\"Suggest charts\"\n",
              "            style=\"display:none;\">\n",
              "\n",
              "<svg xmlns=\"http://www.w3.org/2000/svg\" height=\"24px\"viewBox=\"0 0 24 24\"\n",
              "     width=\"24px\">\n",
              "    <g>\n",
              "        <path d=\"M19 3H5c-1.1 0-2 .9-2 2v14c0 1.1.9 2 2 2h14c1.1 0 2-.9 2-2V5c0-1.1-.9-2-2-2zM9 17H7v-7h2v7zm4 0h-2V7h2v10zm4 0h-2v-4h2v4z\"/>\n",
              "    </g>\n",
              "</svg>\n",
              "  </button>\n",
              "\n",
              "<style>\n",
              "  .colab-df-quickchart {\n",
              "      --bg-color: #E8F0FE;\n",
              "      --fill-color: #1967D2;\n",
              "      --hover-bg-color: #E2EBFA;\n",
              "      --hover-fill-color: #174EA6;\n",
              "      --disabled-fill-color: #AAA;\n",
              "      --disabled-bg-color: #DDD;\n",
              "  }\n",
              "\n",
              "  [theme=dark] .colab-df-quickchart {\n",
              "      --bg-color: #3B4455;\n",
              "      --fill-color: #D2E3FC;\n",
              "      --hover-bg-color: #434B5C;\n",
              "      --hover-fill-color: #FFFFFF;\n",
              "      --disabled-bg-color: #3B4455;\n",
              "      --disabled-fill-color: #666;\n",
              "  }\n",
              "\n",
              "  .colab-df-quickchart {\n",
              "    background-color: var(--bg-color);\n",
              "    border: none;\n",
              "    border-radius: 50%;\n",
              "    cursor: pointer;\n",
              "    display: none;\n",
              "    fill: var(--fill-color);\n",
              "    height: 32px;\n",
              "    padding: 0;\n",
              "    width: 32px;\n",
              "  }\n",
              "\n",
              "  .colab-df-quickchart:hover {\n",
              "    background-color: var(--hover-bg-color);\n",
              "    box-shadow: 0 1px 2px rgba(60, 64, 67, 0.3), 0 1px 3px 1px rgba(60, 64, 67, 0.15);\n",
              "    fill: var(--button-hover-fill-color);\n",
              "  }\n",
              "\n",
              "  .colab-df-quickchart-complete:disabled,\n",
              "  .colab-df-quickchart-complete:disabled:hover {\n",
              "    background-color: var(--disabled-bg-color);\n",
              "    fill: var(--disabled-fill-color);\n",
              "    box-shadow: none;\n",
              "  }\n",
              "\n",
              "  .colab-df-spinner {\n",
              "    border: 2px solid var(--fill-color);\n",
              "    border-color: transparent;\n",
              "    border-bottom-color: var(--fill-color);\n",
              "    animation:\n",
              "      spin 1s steps(1) infinite;\n",
              "  }\n",
              "\n",
              "  @keyframes spin {\n",
              "    0% {\n",
              "      border-color: transparent;\n",
              "      border-bottom-color: var(--fill-color);\n",
              "      border-left-color: var(--fill-color);\n",
              "    }\n",
              "    20% {\n",
              "      border-color: transparent;\n",
              "      border-left-color: var(--fill-color);\n",
              "      border-top-color: var(--fill-color);\n",
              "    }\n",
              "    30% {\n",
              "      border-color: transparent;\n",
              "      border-left-color: var(--fill-color);\n",
              "      border-top-color: var(--fill-color);\n",
              "      border-right-color: var(--fill-color);\n",
              "    }\n",
              "    40% {\n",
              "      border-color: transparent;\n",
              "      border-right-color: var(--fill-color);\n",
              "      border-top-color: var(--fill-color);\n",
              "    }\n",
              "    60% {\n",
              "      border-color: transparent;\n",
              "      border-right-color: var(--fill-color);\n",
              "    }\n",
              "    80% {\n",
              "      border-color: transparent;\n",
              "      border-right-color: var(--fill-color);\n",
              "      border-bottom-color: var(--fill-color);\n",
              "    }\n",
              "    90% {\n",
              "      border-color: transparent;\n",
              "      border-bottom-color: var(--fill-color);\n",
              "    }\n",
              "  }\n",
              "</style>\n",
              "\n",
              "  <script>\n",
              "    async function quickchart(key) {\n",
              "      const quickchartButtonEl =\n",
              "        document.querySelector('#' + key + ' button');\n",
              "      quickchartButtonEl.disabled = true;  // To prevent multiple clicks.\n",
              "      quickchartButtonEl.classList.add('colab-df-spinner');\n",
              "      try {\n",
              "        const charts = await google.colab.kernel.invokeFunction(\n",
              "            'suggestCharts', [key], {});\n",
              "      } catch (error) {\n",
              "        console.error('Error during call to suggestCharts:', error);\n",
              "      }\n",
              "      quickchartButtonEl.classList.remove('colab-df-spinner');\n",
              "      quickchartButtonEl.classList.add('colab-df-quickchart-complete');\n",
              "    }\n",
              "    (() => {\n",
              "      let quickchartButtonEl =\n",
              "        document.querySelector('#df-bec06b6d-e5fb-4929-ad18-aa48e022acd2 button');\n",
              "      quickchartButtonEl.style.display =\n",
              "        google.colab.kernel.accessAllowed ? 'block' : 'none';\n",
              "    })();\n",
              "  </script>\n",
              "</div>\n",
              "\n",
              "    </div>\n",
              "  </div>\n"
            ]
          },
          "metadata": {},
          "execution_count": 6
        }
      ]
    },
    {
      "cell_type": "code",
      "source": [
        "df.info()"
      ],
      "metadata": {
        "execution": {
          "iopub.status.busy": "2024-01-03T23:24:53.956116Z",
          "iopub.execute_input": "2024-01-03T23:24:53.956807Z",
          "iopub.status.idle": "2024-01-03T23:24:53.970979Z",
          "shell.execute_reply.started": "2024-01-03T23:24:53.956764Z",
          "shell.execute_reply": "2024-01-03T23:24:53.969675Z"
        },
        "trusted": true,
        "colab": {
          "base_uri": "https://localhost:8080/"
        },
        "id": "6epewGxpPN71",
        "outputId": "5a917d9b-1a11-406f-c129-b9baf3b3ea32"
      },
      "execution_count": 7,
      "outputs": [
        {
          "output_type": "stream",
          "name": "stdout",
          "text": [
            "<class 'pandas.core.frame.DataFrame'>\n",
            "RangeIndex: 400 entries, 0 to 399\n",
            "Data columns (total 9 columns):\n",
            " #   Column             Non-Null Count  Dtype  \n",
            "---  ------             --------------  -----  \n",
            " 0   Serial No.         400 non-null    int64  \n",
            " 1   GRE Score          400 non-null    int64  \n",
            " 2   TOEFL Score        400 non-null    int64  \n",
            " 3   University Rating  400 non-null    int64  \n",
            " 4   SOP                400 non-null    float64\n",
            " 5   LOR                400 non-null    float64\n",
            " 6   CGPA               400 non-null    float64\n",
            " 7   Research           400 non-null    int64  \n",
            " 8   Chance of Admit    400 non-null    float64\n",
            "dtypes: float64(4), int64(5)\n",
            "memory usage: 28.2 KB\n"
          ]
        }
      ]
    },
    {
      "cell_type": "markdown",
      "source": [
        "**No null values**"
      ],
      "metadata": {
        "id": "uq0SmtGVPN72"
      }
    },
    {
      "cell_type": "code",
      "source": [
        "Null=df.isnull()\n",
        "Null.sum()"
      ],
      "metadata": {
        "execution": {
          "iopub.status.busy": "2024-01-03T23:24:53.973951Z",
          "iopub.execute_input": "2024-01-03T23:24:53.974689Z",
          "iopub.status.idle": "2024-01-03T23:24:53.990654Z",
          "shell.execute_reply.started": "2024-01-03T23:24:53.974644Z",
          "shell.execute_reply": "2024-01-03T23:24:53.989403Z"
        },
        "trusted": true,
        "colab": {
          "base_uri": "https://localhost:8080/"
        },
        "id": "qnehkxTJPN72",
        "outputId": "be567975-7806-4b2e-8a98-b8b5573e44a4"
      },
      "execution_count": 8,
      "outputs": [
        {
          "output_type": "execute_result",
          "data": {
            "text/plain": [
              "Serial No.           0\n",
              "GRE Score            0\n",
              "TOEFL Score          0\n",
              "University Rating    0\n",
              "SOP                  0\n",
              "LOR                  0\n",
              "CGPA                 0\n",
              "Research             0\n",
              "Chance of Admit      0\n",
              "dtype: int64"
            ]
          },
          "metadata": {},
          "execution_count": 8
        }
      ]
    },
    {
      "cell_type": "markdown",
      "source": [
        "**Renaming Chance of Admit to Admit Possiblity**"
      ],
      "metadata": {
        "id": "IbY-kuilPN73"
      }
    },
    {
      "cell_type": "code",
      "source": [
        "df = df.rename(columns={'GRE Score': 'GRE Score', 'TOEFL Score': 'TOEFL Score', 'LOR ': 'LOR', 'Chance of Admit ': 'Admit Possibilty'})\n",
        "df.head()"
      ],
      "metadata": {
        "execution": {
          "iopub.status.busy": "2024-01-03T23:24:53.992648Z",
          "iopub.execute_input": "2024-01-03T23:24:53.993131Z",
          "iopub.status.idle": "2024-01-03T23:24:54.019338Z",
          "shell.execute_reply.started": "2024-01-03T23:24:53.993090Z",
          "shell.execute_reply": "2024-01-03T23:24:54.017816Z"
        },
        "trusted": true,
        "colab": {
          "base_uri": "https://localhost:8080/",
          "height": 206
        },
        "id": "SRnHPuj_PN74",
        "outputId": "e6865943-60fe-4a23-875a-9deda642e140"
      },
      "execution_count": 9,
      "outputs": [
        {
          "output_type": "execute_result",
          "data": {
            "text/plain": [
              "   Serial No.  GRE Score  TOEFL Score  University Rating  SOP  LOR  CGPA  \\\n",
              "0           1        337          118                  4  4.5  4.5  9.65   \n",
              "1           2        324          107                  4  4.0  4.5  8.87   \n",
              "2           3        316          104                  3  3.0  3.5  8.00   \n",
              "3           4        322          110                  3  3.5  2.5  8.67   \n",
              "4           5        314          103                  2  2.0  3.0  8.21   \n",
              "\n",
              "   Research  Admit Possibilty  \n",
              "0         1              0.92  \n",
              "1         1              0.76  \n",
              "2         1              0.72  \n",
              "3         1              0.80  \n",
              "4         0              0.65  "
            ],
            "text/html": [
              "\n",
              "  <div id=\"df-d23f4dc5-c35c-4829-86f4-7b57e45f01a1\" class=\"colab-df-container\">\n",
              "    <div>\n",
              "<style scoped>\n",
              "    .dataframe tbody tr th:only-of-type {\n",
              "        vertical-align: middle;\n",
              "    }\n",
              "\n",
              "    .dataframe tbody tr th {\n",
              "        vertical-align: top;\n",
              "    }\n",
              "\n",
              "    .dataframe thead th {\n",
              "        text-align: right;\n",
              "    }\n",
              "</style>\n",
              "<table border=\"1\" class=\"dataframe\">\n",
              "  <thead>\n",
              "    <tr style=\"text-align: right;\">\n",
              "      <th></th>\n",
              "      <th>Serial No.</th>\n",
              "      <th>GRE Score</th>\n",
              "      <th>TOEFL Score</th>\n",
              "      <th>University Rating</th>\n",
              "      <th>SOP</th>\n",
              "      <th>LOR</th>\n",
              "      <th>CGPA</th>\n",
              "      <th>Research</th>\n",
              "      <th>Admit Possibilty</th>\n",
              "    </tr>\n",
              "  </thead>\n",
              "  <tbody>\n",
              "    <tr>\n",
              "      <th>0</th>\n",
              "      <td>1</td>\n",
              "      <td>337</td>\n",
              "      <td>118</td>\n",
              "      <td>4</td>\n",
              "      <td>4.5</td>\n",
              "      <td>4.5</td>\n",
              "      <td>9.65</td>\n",
              "      <td>1</td>\n",
              "      <td>0.92</td>\n",
              "    </tr>\n",
              "    <tr>\n",
              "      <th>1</th>\n",
              "      <td>2</td>\n",
              "      <td>324</td>\n",
              "      <td>107</td>\n",
              "      <td>4</td>\n",
              "      <td>4.0</td>\n",
              "      <td>4.5</td>\n",
              "      <td>8.87</td>\n",
              "      <td>1</td>\n",
              "      <td>0.76</td>\n",
              "    </tr>\n",
              "    <tr>\n",
              "      <th>2</th>\n",
              "      <td>3</td>\n",
              "      <td>316</td>\n",
              "      <td>104</td>\n",
              "      <td>3</td>\n",
              "      <td>3.0</td>\n",
              "      <td>3.5</td>\n",
              "      <td>8.00</td>\n",
              "      <td>1</td>\n",
              "      <td>0.72</td>\n",
              "    </tr>\n",
              "    <tr>\n",
              "      <th>3</th>\n",
              "      <td>4</td>\n",
              "      <td>322</td>\n",
              "      <td>110</td>\n",
              "      <td>3</td>\n",
              "      <td>3.5</td>\n",
              "      <td>2.5</td>\n",
              "      <td>8.67</td>\n",
              "      <td>1</td>\n",
              "      <td>0.80</td>\n",
              "    </tr>\n",
              "    <tr>\n",
              "      <th>4</th>\n",
              "      <td>5</td>\n",
              "      <td>314</td>\n",
              "      <td>103</td>\n",
              "      <td>2</td>\n",
              "      <td>2.0</td>\n",
              "      <td>3.0</td>\n",
              "      <td>8.21</td>\n",
              "      <td>0</td>\n",
              "      <td>0.65</td>\n",
              "    </tr>\n",
              "  </tbody>\n",
              "</table>\n",
              "</div>\n",
              "    <div class=\"colab-df-buttons\">\n",
              "\n",
              "  <div class=\"colab-df-container\">\n",
              "    <button class=\"colab-df-convert\" onclick=\"convertToInteractive('df-d23f4dc5-c35c-4829-86f4-7b57e45f01a1')\"\n",
              "            title=\"Convert this dataframe to an interactive table.\"\n",
              "            style=\"display:none;\">\n",
              "\n",
              "  <svg xmlns=\"http://www.w3.org/2000/svg\" height=\"24px\" viewBox=\"0 -960 960 960\">\n",
              "    <path d=\"M120-120v-720h720v720H120Zm60-500h600v-160H180v160Zm220 220h160v-160H400v160Zm0 220h160v-160H400v160ZM180-400h160v-160H180v160Zm440 0h160v-160H620v160ZM180-180h160v-160H180v160Zm440 0h160v-160H620v160Z\"/>\n",
              "  </svg>\n",
              "    </button>\n",
              "\n",
              "  <style>\n",
              "    .colab-df-container {\n",
              "      display:flex;\n",
              "      gap: 12px;\n",
              "    }\n",
              "\n",
              "    .colab-df-convert {\n",
              "      background-color: #E8F0FE;\n",
              "      border: none;\n",
              "      border-radius: 50%;\n",
              "      cursor: pointer;\n",
              "      display: none;\n",
              "      fill: #1967D2;\n",
              "      height: 32px;\n",
              "      padding: 0 0 0 0;\n",
              "      width: 32px;\n",
              "    }\n",
              "\n",
              "    .colab-df-convert:hover {\n",
              "      background-color: #E2EBFA;\n",
              "      box-shadow: 0px 1px 2px rgba(60, 64, 67, 0.3), 0px 1px 3px 1px rgba(60, 64, 67, 0.15);\n",
              "      fill: #174EA6;\n",
              "    }\n",
              "\n",
              "    .colab-df-buttons div {\n",
              "      margin-bottom: 4px;\n",
              "    }\n",
              "\n",
              "    [theme=dark] .colab-df-convert {\n",
              "      background-color: #3B4455;\n",
              "      fill: #D2E3FC;\n",
              "    }\n",
              "\n",
              "    [theme=dark] .colab-df-convert:hover {\n",
              "      background-color: #434B5C;\n",
              "      box-shadow: 0px 1px 3px 1px rgba(0, 0, 0, 0.15);\n",
              "      filter: drop-shadow(0px 1px 2px rgba(0, 0, 0, 0.3));\n",
              "      fill: #FFFFFF;\n",
              "    }\n",
              "  </style>\n",
              "\n",
              "    <script>\n",
              "      const buttonEl =\n",
              "        document.querySelector('#df-d23f4dc5-c35c-4829-86f4-7b57e45f01a1 button.colab-df-convert');\n",
              "      buttonEl.style.display =\n",
              "        google.colab.kernel.accessAllowed ? 'block' : 'none';\n",
              "\n",
              "      async function convertToInteractive(key) {\n",
              "        const element = document.querySelector('#df-d23f4dc5-c35c-4829-86f4-7b57e45f01a1');\n",
              "        const dataTable =\n",
              "          await google.colab.kernel.invokeFunction('convertToInteractive',\n",
              "                                                    [key], {});\n",
              "        if (!dataTable) return;\n",
              "\n",
              "        const docLinkHtml = 'Like what you see? Visit the ' +\n",
              "          '<a target=\"_blank\" href=https://colab.research.google.com/notebooks/data_table.ipynb>data table notebook</a>'\n",
              "          + ' to learn more about interactive tables.';\n",
              "        element.innerHTML = '';\n",
              "        dataTable['output_type'] = 'display_data';\n",
              "        await google.colab.output.renderOutput(dataTable, element);\n",
              "        const docLink = document.createElement('div');\n",
              "        docLink.innerHTML = docLinkHtml;\n",
              "        element.appendChild(docLink);\n",
              "      }\n",
              "    </script>\n",
              "  </div>\n",
              "\n",
              "\n",
              "<div id=\"df-fb31886f-4f4b-4e3b-8938-96e42be5f28c\">\n",
              "  <button class=\"colab-df-quickchart\" onclick=\"quickchart('df-fb31886f-4f4b-4e3b-8938-96e42be5f28c')\"\n",
              "            title=\"Suggest charts\"\n",
              "            style=\"display:none;\">\n",
              "\n",
              "<svg xmlns=\"http://www.w3.org/2000/svg\" height=\"24px\"viewBox=\"0 0 24 24\"\n",
              "     width=\"24px\">\n",
              "    <g>\n",
              "        <path d=\"M19 3H5c-1.1 0-2 .9-2 2v14c0 1.1.9 2 2 2h14c1.1 0 2-.9 2-2V5c0-1.1-.9-2-2-2zM9 17H7v-7h2v7zm4 0h-2V7h2v10zm4 0h-2v-4h2v4z\"/>\n",
              "    </g>\n",
              "</svg>\n",
              "  </button>\n",
              "\n",
              "<style>\n",
              "  .colab-df-quickchart {\n",
              "      --bg-color: #E8F0FE;\n",
              "      --fill-color: #1967D2;\n",
              "      --hover-bg-color: #E2EBFA;\n",
              "      --hover-fill-color: #174EA6;\n",
              "      --disabled-fill-color: #AAA;\n",
              "      --disabled-bg-color: #DDD;\n",
              "  }\n",
              "\n",
              "  [theme=dark] .colab-df-quickchart {\n",
              "      --bg-color: #3B4455;\n",
              "      --fill-color: #D2E3FC;\n",
              "      --hover-bg-color: #434B5C;\n",
              "      --hover-fill-color: #FFFFFF;\n",
              "      --disabled-bg-color: #3B4455;\n",
              "      --disabled-fill-color: #666;\n",
              "  }\n",
              "\n",
              "  .colab-df-quickchart {\n",
              "    background-color: var(--bg-color);\n",
              "    border: none;\n",
              "    border-radius: 50%;\n",
              "    cursor: pointer;\n",
              "    display: none;\n",
              "    fill: var(--fill-color);\n",
              "    height: 32px;\n",
              "    padding: 0;\n",
              "    width: 32px;\n",
              "  }\n",
              "\n",
              "  .colab-df-quickchart:hover {\n",
              "    background-color: var(--hover-bg-color);\n",
              "    box-shadow: 0 1px 2px rgba(60, 64, 67, 0.3), 0 1px 3px 1px rgba(60, 64, 67, 0.15);\n",
              "    fill: var(--button-hover-fill-color);\n",
              "  }\n",
              "\n",
              "  .colab-df-quickchart-complete:disabled,\n",
              "  .colab-df-quickchart-complete:disabled:hover {\n",
              "    background-color: var(--disabled-bg-color);\n",
              "    fill: var(--disabled-fill-color);\n",
              "    box-shadow: none;\n",
              "  }\n",
              "\n",
              "  .colab-df-spinner {\n",
              "    border: 2px solid var(--fill-color);\n",
              "    border-color: transparent;\n",
              "    border-bottom-color: var(--fill-color);\n",
              "    animation:\n",
              "      spin 1s steps(1) infinite;\n",
              "  }\n",
              "\n",
              "  @keyframes spin {\n",
              "    0% {\n",
              "      border-color: transparent;\n",
              "      border-bottom-color: var(--fill-color);\n",
              "      border-left-color: var(--fill-color);\n",
              "    }\n",
              "    20% {\n",
              "      border-color: transparent;\n",
              "      border-left-color: var(--fill-color);\n",
              "      border-top-color: var(--fill-color);\n",
              "    }\n",
              "    30% {\n",
              "      border-color: transparent;\n",
              "      border-left-color: var(--fill-color);\n",
              "      border-top-color: var(--fill-color);\n",
              "      border-right-color: var(--fill-color);\n",
              "    }\n",
              "    40% {\n",
              "      border-color: transparent;\n",
              "      border-right-color: var(--fill-color);\n",
              "      border-top-color: var(--fill-color);\n",
              "    }\n",
              "    60% {\n",
              "      border-color: transparent;\n",
              "      border-right-color: var(--fill-color);\n",
              "    }\n",
              "    80% {\n",
              "      border-color: transparent;\n",
              "      border-right-color: var(--fill-color);\n",
              "      border-bottom-color: var(--fill-color);\n",
              "    }\n",
              "    90% {\n",
              "      border-color: transparent;\n",
              "      border-bottom-color: var(--fill-color);\n",
              "    }\n",
              "  }\n",
              "</style>\n",
              "\n",
              "  <script>\n",
              "    async function quickchart(key) {\n",
              "      const quickchartButtonEl =\n",
              "        document.querySelector('#' + key + ' button');\n",
              "      quickchartButtonEl.disabled = true;  // To prevent multiple clicks.\n",
              "      quickchartButtonEl.classList.add('colab-df-spinner');\n",
              "      try {\n",
              "        const charts = await google.colab.kernel.invokeFunction(\n",
              "            'suggestCharts', [key], {});\n",
              "      } catch (error) {\n",
              "        console.error('Error during call to suggestCharts:', error);\n",
              "      }\n",
              "      quickchartButtonEl.classList.remove('colab-df-spinner');\n",
              "      quickchartButtonEl.classList.add('colab-df-quickchart-complete');\n",
              "    }\n",
              "    (() => {\n",
              "      let quickchartButtonEl =\n",
              "        document.querySelector('#df-fb31886f-4f4b-4e3b-8938-96e42be5f28c button');\n",
              "      quickchartButtonEl.style.display =\n",
              "        google.colab.kernel.accessAllowed ? 'block' : 'none';\n",
              "    })();\n",
              "  </script>\n",
              "</div>\n",
              "\n",
              "    </div>\n",
              "  </div>\n"
            ]
          },
          "metadata": {},
          "execution_count": 9
        }
      ]
    },
    {
      "cell_type": "markdown",
      "source": [
        "**Dropping Serial Number since it's pointless**"
      ],
      "metadata": {
        "id": "wvGAvB1GPN74"
      }
    },
    {
      "cell_type": "code",
      "source": [
        "df.drop('Serial No.', axis='columns', inplace=True)\n",
        "df.head()"
      ],
      "metadata": {
        "execution": {
          "iopub.status.busy": "2024-01-03T23:24:54.020846Z",
          "iopub.execute_input": "2024-01-03T23:24:54.021377Z",
          "iopub.status.idle": "2024-01-03T23:24:54.039521Z",
          "shell.execute_reply.started": "2024-01-03T23:24:54.021333Z",
          "shell.execute_reply": "2024-01-03T23:24:54.038161Z"
        },
        "trusted": true,
        "colab": {
          "base_uri": "https://localhost:8080/",
          "height": 206
        },
        "id": "KpDFZgf6PN74",
        "outputId": "e14a5d5c-7ee1-4359-bc84-72787894a087"
      },
      "execution_count": 10,
      "outputs": [
        {
          "output_type": "execute_result",
          "data": {
            "text/plain": [
              "   GRE Score  TOEFL Score  University Rating  SOP  LOR  CGPA  Research  \\\n",
              "0        337          118                  4  4.5  4.5  9.65         1   \n",
              "1        324          107                  4  4.0  4.5  8.87         1   \n",
              "2        316          104                  3  3.0  3.5  8.00         1   \n",
              "3        322          110                  3  3.5  2.5  8.67         1   \n",
              "4        314          103                  2  2.0  3.0  8.21         0   \n",
              "\n",
              "   Admit Possibilty  \n",
              "0              0.92  \n",
              "1              0.76  \n",
              "2              0.72  \n",
              "3              0.80  \n",
              "4              0.65  "
            ],
            "text/html": [
              "\n",
              "  <div id=\"df-e5e3d707-4dc1-463b-a185-084770242ca7\" class=\"colab-df-container\">\n",
              "    <div>\n",
              "<style scoped>\n",
              "    .dataframe tbody tr th:only-of-type {\n",
              "        vertical-align: middle;\n",
              "    }\n",
              "\n",
              "    .dataframe tbody tr th {\n",
              "        vertical-align: top;\n",
              "    }\n",
              "\n",
              "    .dataframe thead th {\n",
              "        text-align: right;\n",
              "    }\n",
              "</style>\n",
              "<table border=\"1\" class=\"dataframe\">\n",
              "  <thead>\n",
              "    <tr style=\"text-align: right;\">\n",
              "      <th></th>\n",
              "      <th>GRE Score</th>\n",
              "      <th>TOEFL Score</th>\n",
              "      <th>University Rating</th>\n",
              "      <th>SOP</th>\n",
              "      <th>LOR</th>\n",
              "      <th>CGPA</th>\n",
              "      <th>Research</th>\n",
              "      <th>Admit Possibilty</th>\n",
              "    </tr>\n",
              "  </thead>\n",
              "  <tbody>\n",
              "    <tr>\n",
              "      <th>0</th>\n",
              "      <td>337</td>\n",
              "      <td>118</td>\n",
              "      <td>4</td>\n",
              "      <td>4.5</td>\n",
              "      <td>4.5</td>\n",
              "      <td>9.65</td>\n",
              "      <td>1</td>\n",
              "      <td>0.92</td>\n",
              "    </tr>\n",
              "    <tr>\n",
              "      <th>1</th>\n",
              "      <td>324</td>\n",
              "      <td>107</td>\n",
              "      <td>4</td>\n",
              "      <td>4.0</td>\n",
              "      <td>4.5</td>\n",
              "      <td>8.87</td>\n",
              "      <td>1</td>\n",
              "      <td>0.76</td>\n",
              "    </tr>\n",
              "    <tr>\n",
              "      <th>2</th>\n",
              "      <td>316</td>\n",
              "      <td>104</td>\n",
              "      <td>3</td>\n",
              "      <td>3.0</td>\n",
              "      <td>3.5</td>\n",
              "      <td>8.00</td>\n",
              "      <td>1</td>\n",
              "      <td>0.72</td>\n",
              "    </tr>\n",
              "    <tr>\n",
              "      <th>3</th>\n",
              "      <td>322</td>\n",
              "      <td>110</td>\n",
              "      <td>3</td>\n",
              "      <td>3.5</td>\n",
              "      <td>2.5</td>\n",
              "      <td>8.67</td>\n",
              "      <td>1</td>\n",
              "      <td>0.80</td>\n",
              "    </tr>\n",
              "    <tr>\n",
              "      <th>4</th>\n",
              "      <td>314</td>\n",
              "      <td>103</td>\n",
              "      <td>2</td>\n",
              "      <td>2.0</td>\n",
              "      <td>3.0</td>\n",
              "      <td>8.21</td>\n",
              "      <td>0</td>\n",
              "      <td>0.65</td>\n",
              "    </tr>\n",
              "  </tbody>\n",
              "</table>\n",
              "</div>\n",
              "    <div class=\"colab-df-buttons\">\n",
              "\n",
              "  <div class=\"colab-df-container\">\n",
              "    <button class=\"colab-df-convert\" onclick=\"convertToInteractive('df-e5e3d707-4dc1-463b-a185-084770242ca7')\"\n",
              "            title=\"Convert this dataframe to an interactive table.\"\n",
              "            style=\"display:none;\">\n",
              "\n",
              "  <svg xmlns=\"http://www.w3.org/2000/svg\" height=\"24px\" viewBox=\"0 -960 960 960\">\n",
              "    <path d=\"M120-120v-720h720v720H120Zm60-500h600v-160H180v160Zm220 220h160v-160H400v160Zm0 220h160v-160H400v160ZM180-400h160v-160H180v160Zm440 0h160v-160H620v160ZM180-180h160v-160H180v160Zm440 0h160v-160H620v160Z\"/>\n",
              "  </svg>\n",
              "    </button>\n",
              "\n",
              "  <style>\n",
              "    .colab-df-container {\n",
              "      display:flex;\n",
              "      gap: 12px;\n",
              "    }\n",
              "\n",
              "    .colab-df-convert {\n",
              "      background-color: #E8F0FE;\n",
              "      border: none;\n",
              "      border-radius: 50%;\n",
              "      cursor: pointer;\n",
              "      display: none;\n",
              "      fill: #1967D2;\n",
              "      height: 32px;\n",
              "      padding: 0 0 0 0;\n",
              "      width: 32px;\n",
              "    }\n",
              "\n",
              "    .colab-df-convert:hover {\n",
              "      background-color: #E2EBFA;\n",
              "      box-shadow: 0px 1px 2px rgba(60, 64, 67, 0.3), 0px 1px 3px 1px rgba(60, 64, 67, 0.15);\n",
              "      fill: #174EA6;\n",
              "    }\n",
              "\n",
              "    .colab-df-buttons div {\n",
              "      margin-bottom: 4px;\n",
              "    }\n",
              "\n",
              "    [theme=dark] .colab-df-convert {\n",
              "      background-color: #3B4455;\n",
              "      fill: #D2E3FC;\n",
              "    }\n",
              "\n",
              "    [theme=dark] .colab-df-convert:hover {\n",
              "      background-color: #434B5C;\n",
              "      box-shadow: 0px 1px 3px 1px rgba(0, 0, 0, 0.15);\n",
              "      filter: drop-shadow(0px 1px 2px rgba(0, 0, 0, 0.3));\n",
              "      fill: #FFFFFF;\n",
              "    }\n",
              "  </style>\n",
              "\n",
              "    <script>\n",
              "      const buttonEl =\n",
              "        document.querySelector('#df-e5e3d707-4dc1-463b-a185-084770242ca7 button.colab-df-convert');\n",
              "      buttonEl.style.display =\n",
              "        google.colab.kernel.accessAllowed ? 'block' : 'none';\n",
              "\n",
              "      async function convertToInteractive(key) {\n",
              "        const element = document.querySelector('#df-e5e3d707-4dc1-463b-a185-084770242ca7');\n",
              "        const dataTable =\n",
              "          await google.colab.kernel.invokeFunction('convertToInteractive',\n",
              "                                                    [key], {});\n",
              "        if (!dataTable) return;\n",
              "\n",
              "        const docLinkHtml = 'Like what you see? Visit the ' +\n",
              "          '<a target=\"_blank\" href=https://colab.research.google.com/notebooks/data_table.ipynb>data table notebook</a>'\n",
              "          + ' to learn more about interactive tables.';\n",
              "        element.innerHTML = '';\n",
              "        dataTable['output_type'] = 'display_data';\n",
              "        await google.colab.output.renderOutput(dataTable, element);\n",
              "        const docLink = document.createElement('div');\n",
              "        docLink.innerHTML = docLinkHtml;\n",
              "        element.appendChild(docLink);\n",
              "      }\n",
              "    </script>\n",
              "  </div>\n",
              "\n",
              "\n",
              "<div id=\"df-31671e4a-f32a-4e79-a554-2059d9b2a3bd\">\n",
              "  <button class=\"colab-df-quickchart\" onclick=\"quickchart('df-31671e4a-f32a-4e79-a554-2059d9b2a3bd')\"\n",
              "            title=\"Suggest charts\"\n",
              "            style=\"display:none;\">\n",
              "\n",
              "<svg xmlns=\"http://www.w3.org/2000/svg\" height=\"24px\"viewBox=\"0 0 24 24\"\n",
              "     width=\"24px\">\n",
              "    <g>\n",
              "        <path d=\"M19 3H5c-1.1 0-2 .9-2 2v14c0 1.1.9 2 2 2h14c1.1 0 2-.9 2-2V5c0-1.1-.9-2-2-2zM9 17H7v-7h2v7zm4 0h-2V7h2v10zm4 0h-2v-4h2v4z\"/>\n",
              "    </g>\n",
              "</svg>\n",
              "  </button>\n",
              "\n",
              "<style>\n",
              "  .colab-df-quickchart {\n",
              "      --bg-color: #E8F0FE;\n",
              "      --fill-color: #1967D2;\n",
              "      --hover-bg-color: #E2EBFA;\n",
              "      --hover-fill-color: #174EA6;\n",
              "      --disabled-fill-color: #AAA;\n",
              "      --disabled-bg-color: #DDD;\n",
              "  }\n",
              "\n",
              "  [theme=dark] .colab-df-quickchart {\n",
              "      --bg-color: #3B4455;\n",
              "      --fill-color: #D2E3FC;\n",
              "      --hover-bg-color: #434B5C;\n",
              "      --hover-fill-color: #FFFFFF;\n",
              "      --disabled-bg-color: #3B4455;\n",
              "      --disabled-fill-color: #666;\n",
              "  }\n",
              "\n",
              "  .colab-df-quickchart {\n",
              "    background-color: var(--bg-color);\n",
              "    border: none;\n",
              "    border-radius: 50%;\n",
              "    cursor: pointer;\n",
              "    display: none;\n",
              "    fill: var(--fill-color);\n",
              "    height: 32px;\n",
              "    padding: 0;\n",
              "    width: 32px;\n",
              "  }\n",
              "\n",
              "  .colab-df-quickchart:hover {\n",
              "    background-color: var(--hover-bg-color);\n",
              "    box-shadow: 0 1px 2px rgba(60, 64, 67, 0.3), 0 1px 3px 1px rgba(60, 64, 67, 0.15);\n",
              "    fill: var(--button-hover-fill-color);\n",
              "  }\n",
              "\n",
              "  .colab-df-quickchart-complete:disabled,\n",
              "  .colab-df-quickchart-complete:disabled:hover {\n",
              "    background-color: var(--disabled-bg-color);\n",
              "    fill: var(--disabled-fill-color);\n",
              "    box-shadow: none;\n",
              "  }\n",
              "\n",
              "  .colab-df-spinner {\n",
              "    border: 2px solid var(--fill-color);\n",
              "    border-color: transparent;\n",
              "    border-bottom-color: var(--fill-color);\n",
              "    animation:\n",
              "      spin 1s steps(1) infinite;\n",
              "  }\n",
              "\n",
              "  @keyframes spin {\n",
              "    0% {\n",
              "      border-color: transparent;\n",
              "      border-bottom-color: var(--fill-color);\n",
              "      border-left-color: var(--fill-color);\n",
              "    }\n",
              "    20% {\n",
              "      border-color: transparent;\n",
              "      border-left-color: var(--fill-color);\n",
              "      border-top-color: var(--fill-color);\n",
              "    }\n",
              "    30% {\n",
              "      border-color: transparent;\n",
              "      border-left-color: var(--fill-color);\n",
              "      border-top-color: var(--fill-color);\n",
              "      border-right-color: var(--fill-color);\n",
              "    }\n",
              "    40% {\n",
              "      border-color: transparent;\n",
              "      border-right-color: var(--fill-color);\n",
              "      border-top-color: var(--fill-color);\n",
              "    }\n",
              "    60% {\n",
              "      border-color: transparent;\n",
              "      border-right-color: var(--fill-color);\n",
              "    }\n",
              "    80% {\n",
              "      border-color: transparent;\n",
              "      border-right-color: var(--fill-color);\n",
              "      border-bottom-color: var(--fill-color);\n",
              "    }\n",
              "    90% {\n",
              "      border-color: transparent;\n",
              "      border-bottom-color: var(--fill-color);\n",
              "    }\n",
              "  }\n",
              "</style>\n",
              "\n",
              "  <script>\n",
              "    async function quickchart(key) {\n",
              "      const quickchartButtonEl =\n",
              "        document.querySelector('#' + key + ' button');\n",
              "      quickchartButtonEl.disabled = true;  // To prevent multiple clicks.\n",
              "      quickchartButtonEl.classList.add('colab-df-spinner');\n",
              "      try {\n",
              "        const charts = await google.colab.kernel.invokeFunction(\n",
              "            'suggestCharts', [key], {});\n",
              "      } catch (error) {\n",
              "        console.error('Error during call to suggestCharts:', error);\n",
              "      }\n",
              "      quickchartButtonEl.classList.remove('colab-df-spinner');\n",
              "      quickchartButtonEl.classList.add('colab-df-quickchart-complete');\n",
              "    }\n",
              "    (() => {\n",
              "      let quickchartButtonEl =\n",
              "        document.querySelector('#df-31671e4a-f32a-4e79-a554-2059d9b2a3bd button');\n",
              "      quickchartButtonEl.style.display =\n",
              "        google.colab.kernel.accessAllowed ? 'block' : 'none';\n",
              "    })();\n",
              "  </script>\n",
              "</div>\n",
              "\n",
              "    </div>\n",
              "  </div>\n"
            ]
          },
          "metadata": {},
          "execution_count": 10
        }
      ]
    },
    {
      "cell_type": "markdown",
      "source": [
        "**Code to detect outliers**"
      ],
      "metadata": {
        "id": "LrwD-BbzPN75"
      }
    },
    {
      "cell_type": "code",
      "source": [
        "def detect_outliers(df,n,features):\n",
        "    \"\"\"\n",
        "    Takes a dataframe df of features and returns a list of the indices\n",
        "    corresponding to the observations containing more than n outliers according\n",
        "    to the Tukey method.\n",
        "    \"\"\"\n",
        "    outlier_indices = []\n",
        "\n",
        "    # iterate over features(columns)\n",
        "    for col in features:\n",
        "        # 1st quartile (25%)\n",
        "        Q1 = np.percentile(df[col], 25)\n",
        "        # 3rd quartile (75%)\n",
        "        Q3 = np.percentile(df[col],75)\n",
        "        # Interquartile range (IQR)\n",
        "        IQR = Q3 - Q1\n",
        "\n",
        "        # outlier step\n",
        "        outlier_step = 1.5 * IQR\n",
        "\n",
        "        # Determine a list of indices of outliers for feature col\n",
        "        outlier_list_col = df[(df[col] < Q1 - outlier_step) | (df[col] > Q3 + outlier_step )].index\n",
        "\n",
        "        # append the found outlier indices for col to the list of outlier indices\n",
        "        outlier_indices.extend(outlier_list_col)\n",
        "\n",
        "    # select observations containing more than 2 outliers\n",
        "    outlier_indices = Counter(outlier_indices)\n",
        "    multiple_outliers = list( k for k, v in outlier_indices.items() if v > n )\n",
        "\n",
        "    return multiple_outliers\n",
        "outliers_to_drop=detect_outliers(df,2,['GRE Score', 'TOEFL Score', 'University Rating', 'SOP', 'LOR', 'CGPA', 'Research'])"
      ],
      "metadata": {
        "execution": {
          "iopub.status.busy": "2024-01-03T23:24:54.041223Z",
          "iopub.execute_input": "2024-01-03T23:24:54.041571Z",
          "iopub.status.idle": "2024-01-03T23:24:54.066625Z",
          "shell.execute_reply.started": "2024-01-03T23:24:54.041541Z",
          "shell.execute_reply": "2024-01-03T23:24:54.065590Z"
        },
        "trusted": true,
        "id": "2F-mkGPrPN75"
      },
      "execution_count": 11,
      "outputs": []
    },
    {
      "cell_type": "markdown",
      "source": [
        "**No outliers are shown**"
      ],
      "metadata": {
        "id": "fNs5_m0hPN75"
      }
    },
    {
      "cell_type": "code",
      "source": [
        "#df.loc[outliers_to_drop] # Show the outliers rows"
      ],
      "metadata": {
        "execution": {
          "iopub.status.busy": "2024-01-03T23:24:54.068243Z",
          "iopub.execute_input": "2024-01-03T23:24:54.069403Z",
          "iopub.status.idle": "2024-01-03T23:24:54.074839Z",
          "shell.execute_reply.started": "2024-01-03T23:24:54.069358Z",
          "shell.execute_reply": "2024-01-03T23:24:54.073663Z"
        },
        "trusted": true,
        "id": "JXGG8lpIPN76"
      },
      "execution_count": 12,
      "outputs": []
    },
    {
      "cell_type": "markdown",
      "source": [
        "**Correlation Matrix for better visualization**"
      ],
      "metadata": {
        "id": "PBAWbaItPN76"
      }
    },
    {
      "cell_type": "code",
      "source": [
        "corr = df.corr()\n",
        "mask = np.zeros_like(corr)\n",
        "mask[np.triu_indices_from(mask)] = True\n",
        "with sns.axes_style(\"white\"):\n",
        "    f, ax = plt.subplots(figsize=(9, 7))\n",
        "    ax = sns.heatmap(corr,mask=mask,square=True,annot=True,fmt='0.2f',linewidths=.8,cmap=\"hsv\")"
      ],
      "metadata": {
        "execution": {
          "iopub.status.busy": "2024-01-03T23:24:54.078178Z",
          "iopub.execute_input": "2024-01-03T23:24:54.078563Z",
          "iopub.status.idle": "2024-01-03T23:24:55.742967Z",
          "shell.execute_reply.started": "2024-01-03T23:24:54.078516Z",
          "shell.execute_reply": "2024-01-03T23:24:55.742103Z"
        },
        "trusted": true,
        "colab": {
          "base_uri": "https://localhost:8080/",
          "height": 705
        },
        "id": "9FUqRbOoPN76",
        "outputId": "2667c8c4-315c-440b-cf6b-f3816f060c1b"
      },
      "execution_count": 13,
      "outputs": [
        {
          "output_type": "display_data",
          "data": {
            "text/plain": [
              "<Figure size 900x700 with 2 Axes>"
            ],
            "image/png": "[encoded data removed]"
          },
          "metadata": {}
        }
      ]
    },
    {
      "cell_type": "markdown",
      "source": [
        "**Pre processing data for training**"
      ],
      "metadata": {
        "id": "weK4dZdFPN77"
      }
    },
    {
      "cell_type": "markdown",
      "source": [
        "**Normalize then split training to 75% and split testing to 25%**"
      ],
      "metadata": {
        "id": "2ELuZgpxPN77"
      }
    },
    {
      "cell_type": "code",
      "source": [
        "from sklearn.model_selection import train_test_split\n",
        "from sklearn import preprocessing\n",
        "\n",
        "x=df.drop('Admit Possibilty',axis='columns')\n",
        "y=df['Admit Possibilty']\n",
        "\n",
        "x_train,x_test,y_train,y_test=train_test_split(x, y, random_state=32)"
      ],
      "metadata": {
        "execution": {
          "iopub.status.busy": "2024-01-03T23:24:55.744485Z",
          "iopub.execute_input": "2024-01-03T23:24:55.745098Z",
          "iopub.status.idle": "2024-01-03T23:24:55.753384Z",
          "shell.execute_reply.started": "2024-01-03T23:24:55.745063Z",
          "shell.execute_reply": "2024-01-03T23:24:55.752294Z"
        },
        "trusted": true,
        "id": "nbW_2_22PN77"
      },
      "execution_count": 14,
      "outputs": []
    },
    {
      "cell_type": "markdown",
      "source": [
        "**Double checking if the training and testing shapes are as expected**"
      ],
      "metadata": {
        "id": "n4M94IdLPN77"
      }
    },
    {
      "cell_type": "code",
      "source": [
        "x_train.shape"
      ],
      "metadata": {
        "execution": {
          "iopub.status.busy": "2024-01-03T23:24:55.755216Z",
          "iopub.execute_input": "2024-01-03T23:24:55.755750Z",
          "iopub.status.idle": "2024-01-03T23:24:55.764101Z",
          "shell.execute_reply.started": "2024-01-03T23:24:55.755710Z",
          "shell.execute_reply": "2024-01-03T23:24:55.762722Z"
        },
        "trusted": true,
        "colab": {
          "base_uri": "https://localhost:8080/"
        },
        "id": "729irXtZPN78",
        "outputId": "cd8a40ca-9fca-4e97-f95e-d81e4ba400bb"
      },
      "execution_count": 15,
      "outputs": [
        {
          "output_type": "execute_result",
          "data": {
            "text/plain": [
              "(300, 7)"
            ]
          },
          "metadata": {},
          "execution_count": 15
        }
      ]
    },
    {
      "cell_type": "code",
      "source": [
        "x_test.shape"
      ],
      "metadata": {
        "execution": {
          "iopub.status.busy": "2024-01-03T23:24:55.766031Z",
          "iopub.execute_input": "2024-01-03T23:24:55.766369Z",
          "iopub.status.idle": "2024-01-03T23:24:55.775606Z",
          "shell.execute_reply.started": "2024-01-03T23:24:55.766340Z",
          "shell.execute_reply": "2024-01-03T23:24:55.774519Z"
        },
        "trusted": true,
        "colab": {
          "base_uri": "https://localhost:8080/"
        },
        "id": "mPehxd38PN78",
        "outputId": "5199b49e-b973-4dc8-eb78-1176f818291c"
      },
      "execution_count": 16,
      "outputs": [
        {
          "output_type": "execute_result",
          "data": {
            "text/plain": [
              "(100, 7)"
            ]
          },
          "metadata": {},
          "execution_count": 16
        }
      ]
    },
    {
      "cell_type": "code",
      "source": [
        "y_train.shape"
      ],
      "metadata": {
        "execution": {
          "iopub.status.busy": "2024-01-03T23:24:55.776899Z",
          "iopub.execute_input": "2024-01-03T23:24:55.777321Z",
          "iopub.status.idle": "2024-01-03T23:24:55.786647Z",
          "shell.execute_reply.started": "2024-01-03T23:24:55.777288Z",
          "shell.execute_reply": "2024-01-03T23:24:55.785389Z"
        },
        "trusted": true,
        "colab": {
          "base_uri": "https://localhost:8080/"
        },
        "id": "eFPjScPYPN78",
        "outputId": "5caa02ea-db8d-4577-f08e-22d5b3b21b5a"
      },
      "execution_count": 17,
      "outputs": [
        {
          "output_type": "execute_result",
          "data": {
            "text/plain": [
              "(300,)"
            ]
          },
          "metadata": {},
          "execution_count": 17
        }
      ]
    },
    {
      "cell_type": "code",
      "source": [
        "y_test.shape"
      ],
      "metadata": {
        "execution": {
          "iopub.status.busy": "2024-01-03T23:24:55.788288Z",
          "iopub.execute_input": "2024-01-03T23:24:55.789336Z",
          "iopub.status.idle": "2024-01-03T23:24:55.797564Z",
          "shell.execute_reply.started": "2024-01-03T23:24:55.789300Z",
          "shell.execute_reply": "2024-01-03T23:24:55.796417Z"
        },
        "trusted": true,
        "colab": {
          "base_uri": "https://localhost:8080/"
        },
        "id": "XHyLY_akPN78",
        "outputId": "c317fc0a-ae55-41b9-9c93-3eda87f45dbc"
      },
      "execution_count": 18,
      "outputs": [
        {
          "output_type": "execute_result",
          "data": {
            "text/plain": [
              "(100,)"
            ]
          },
          "metadata": {},
          "execution_count": 18
        }
      ]
    },
    {
      "cell_type": "markdown",
      "source": [
        "**Importing regressors**"
      ],
      "metadata": {
        "id": "FQUife71PN78"
      }
    },
    {
      "cell_type": "code",
      "source": [
        "from sklearn.linear_model import LinearRegression,LogisticRegression\n",
        "from sklearn.tree import DecisionTreeRegressor,DecisionTreeClassifier\n",
        "from sklearn.ensemble import RandomForestRegressor,RandomForestClassifier\n",
        "from sklearn.ensemble import GradientBoostingRegressor,GradientBoostingClassifier\n",
        "from sklearn.ensemble import AdaBoostRegressor,AdaBoostClassifier\n",
        "from sklearn.ensemble import ExtraTreesRegressor,ExtraTreesClassifier\n",
        "from sklearn.neighbors import KNeighborsRegressor,KNeighborsClassifier\n",
        "from sklearn.svm import SVR,SVC\n",
        "from sklearn.naive_bayes import GaussianNB\n",
        "import xgboost as xgb\n",
        "from sklearn.metrics import accuracy_score,mean_squared_error\n",
        "import numpy as np\n",
        "import pandas as pd\n",
        "import matplotlib.pyplot as plt\n",
        "import seaborn as sns\n",
        "\n",
        "from collections import Counter\n",
        "from sklearn.model_selection import KFold\n",
        "\n",
        "import warnings\n",
        "warnings.filterwarnings('ignore')\n",
        "\n",
        "sns.set_style('darkgrid')\n",
        "from matplotlib import pyplot"
      ],
      "metadata": {
        "execution": {
          "iopub.status.busy": "2024-01-03T23:24:55.799502Z",
          "iopub.execute_input": "2024-01-03T23:24:55.800409Z",
          "iopub.status.idle": "2024-01-03T23:24:55.811437Z",
          "shell.execute_reply.started": "2024-01-03T23:24:55.800361Z",
          "shell.execute_reply": "2024-01-03T23:24:55.810215Z"
        },
        "trusted": true,
        "id": "W_bXhqYLPN79"
      },
      "execution_count": 19,
      "outputs": []
    },
    {
      "cell_type": "markdown",
      "source": [
        "**Initializing Regressors and finiding the RMSE value**"
      ],
      "metadata": {
        "id": "orgpAFZpPN79"
      }
    },
    {
      "cell_type": "code",
      "source": [
        "regressors=[['Linear Regression :',LinearRegression()],\n",
        "       ['Decision Tree Regression :',DecisionTreeRegressor()],\n",
        "       ['Random Forest Regression :',RandomForestRegressor()],\n",
        "       ['Gradient Boosting Regression :', GradientBoostingRegressor()],\n",
        "       ['Ada Boosting Regression :',AdaBoostRegressor()],\n",
        "       ['Extra Tree Regression :', ExtraTreesRegressor()],\n",
        "       ['K-Neighbors Regression :',KNeighborsRegressor()],\n",
        "       ['Support Vector Regression :',SVR()],\n",
        "       ['XGBoost :',xgb.XGBRegressor()]]\n",
        "reg_pred=[]\n",
        "print('Results...\\n')\n",
        "for name,model in regressors:\n",
        "    model=model\n",
        "    model.fit(x_train,y_train)\n",
        "    predictions = model.predict(x_test)\n",
        "    rms=np.sqrt(mean_squared_error(y_test, predictions))\n",
        "    reg_pred.append(rms)\n",
        "    print(name,rms)"
      ],
      "metadata": {
        "execution": {
          "iopub.status.busy": "2024-01-03T23:24:55.817815Z",
          "iopub.execute_input": "2024-01-03T23:24:55.818261Z",
          "iopub.status.idle": "2024-01-03T23:24:56.545829Z",
          "shell.execute_reply.started": "2024-01-03T23:24:55.818215Z",
          "shell.execute_reply": "2024-01-03T23:24:56.544882Z"
        },
        "trusted": true,
        "colab": {
          "base_uri": "https://localhost:8080/"
        },
        "id": "Fxc38_ajPN79",
        "outputId": "8b452290-7f1f-4f26-f744-bc54af0a3820"
      },
      "execution_count": 20,
      "outputs": [
        {
          "output_type": "stream",
          "name": "stdout",
          "text": [
            "Results...\n",
            "\n",
            "Linear Regression : 0.06773380239973358\n",
            "Decision Tree Regression : 0.10453229166147654\n",
            "Random Forest Regression : 0.0756394196170224\n",
            "Gradient Boosting Regression : 0.07657548284646934\n",
            "Ada Boosting Regression : 0.08189696345204403\n",
            "Extra Tree Regression : 0.07456534583839866\n",
            "K-Neighbors Regression : 0.08808518604169488\n",
            "Support Vector Regression : 0.09130063470185568\n",
            "XGBoost : 0.08219895437768207\n"
          ]
        }
      ]
    },
    {
      "cell_type": "markdown",
      "source": [
        "**Plotting a graph to visualize RMSE value of each regressor**"
      ],
      "metadata": {
        "id": "DbzwFQUdPN79"
      }
    },
    {
      "cell_type": "code",
      "source": [
        "y_ax=['Linear Regression' ,'Decision Tree Regression', 'Random Forest Regression','Gradient Boosting Regression', 'Ada Boosting Regression','Extra Tree Regression' ,'K-Neighbors Regression', 'Support Vector Regression', 'XGBoost' ]\n",
        "x_ax=reg_pred"
      ],
      "metadata": {
        "execution": {
          "iopub.status.busy": "2024-01-03T23:24:56.547291Z",
          "iopub.execute_input": "2024-01-03T23:24:56.552084Z",
          "iopub.status.idle": "2024-01-03T23:24:56.557435Z",
          "shell.execute_reply.started": "2024-01-03T23:24:56.552022Z",
          "shell.execute_reply": "2024-01-03T23:24:56.556513Z"
        },
        "trusted": true,
        "id": "Ec20NxvfPN79"
      },
      "execution_count": 21,
      "outputs": []
    },
    {
      "cell_type": "code",
      "source": [
        "sns.barplot(x=x_ax,y=y_ax,linewidth=1.5,edgecolor=\"0.1\")"
      ],
      "metadata": {
        "execution": {
          "iopub.status.busy": "2024-01-03T23:24:56.559421Z",
          "iopub.execute_input": "2024-01-03T23:24:56.559772Z",
          "iopub.status.idle": "2024-01-03T23:24:57.004592Z",
          "shell.execute_reply.started": "2024-01-03T23:24:56.559740Z",
          "shell.execute_reply": "2024-01-03T23:24:57.003143Z"
        },
        "trusted": true,
        "colab": {
          "base_uri": "https://localhost:8080/",
          "height": 447
        },
        "id": "gBIV7MagPN7-",
        "outputId": "a3f4f1de-9d03-4834-ad9e-05fe4c735047"
      },
      "execution_count": 22,
      "outputs": [
        {
          "output_type": "execute_result",
          "data": {
            "text/plain": [
              "<Axes: >"
            ]
          },
          "metadata": {},
          "execution_count": 22
        },
        {
          "output_type": "display_data",
          "data": {
            "text/plain": [
              "<Figure size 640x480 with 1 Axes>"
            ],
            "image/png": "[encoded data removed]"
          },
          "metadata": {}
        }
      ]
    },
    {
      "cell_type": "markdown",
      "source": [
        "**Testing model on Linear Regression which is what was originally used on the paper**"
      ],
      "metadata": {
        "id": "mVOSwCQrPN7_"
      }
    },
    {
      "cell_type": "markdown",
      "source": [
        "# 80.677% accurate on Linear Regression with 42 as seed"
      ],
      "metadata": {
        "id": "3OkQZAOMPN7_"
      }
    },
    {
      "cell_type": "code",
      "source": [
        "model = LinearRegression()\n",
        "# Fit the model (normally you would use x_train and y_train)\n",
        "model.fit(x_train, y_train)\n",
        "\n",
        "# R-squared score the model\n",
        "score = model.score(x_test, y_test)\n",
        "\n",
        "print(\"Model score:\", score * 100)"
      ],
      "metadata": {
        "execution": {
          "iopub.status.busy": "2024-01-03T23:24:57.005807Z",
          "iopub.execute_input": "2024-01-03T23:24:57.006202Z",
          "iopub.status.idle": "2024-01-03T23:24:57.021311Z",
          "shell.execute_reply.started": "2024-01-03T23:24:57.006168Z",
          "shell.execute_reply": "2024-01-03T23:24:57.019966Z"
        },
        "trusted": true,
        "colab": {
          "base_uri": "https://localhost:8080/"
        },
        "id": "t5Z1a6CaPN7_",
        "outputId": "767a0ace-bbd1-436c-e27b-3937bd45068d"
      },
      "execution_count": 23,
      "outputs": [
        {
          "output_type": "stream",
          "name": "stdout",
          "text": [
            "Model score: 80.67760880834038\n"
          ]
        }
      ]
    },
    {
      "cell_type": "code",
      "source": [
        "import numpy as np\n",
        "import matplotlib.pyplot as plt\n",
        "from sklearn.linear_model import LinearRegression\n",
        "from sklearn.model_selection import learning_curve\n",
        "\n",
        "# Assume 'x_train', 'y_train', 'x_test', 'y_test' are already defined\n",
        "model = LinearRegression()\n",
        "\n",
        "# Compute the learning curves\n",
        "train_sizes, train_scores, validation_scores = learning_curve(\n",
        "    estimator = model,\n",
        "    X = x_train,\n",
        "    y = y_train,\n",
        "    train_sizes = np.linspace(0.1, 1.0, 10),\n",
        "    cv = 5,\n",
        "    scoring = 'neg_mean_squared_error'\n",
        ")\n",
        "\n",
        "# Calculate the mean and standard deviation of the training and validation scores\n",
        "train_scores_mean = -train_scores.mean(axis = 1)\n",
        "validation_scores_mean = -validation_scores.mean(axis = 1)\n",
        "train_scores_std = train_scores.std(axis = 1)\n",
        "validation_scores_std = validation_scores.std(axis = 1)\n",
        "\n",
        "# Plot the learning curves\n",
        "plt.figure()\n",
        "plt.fill_between(train_sizes, train_scores_mean - train_scores_std,\n",
        "                 train_scores_mean + train_scores_std, alpha=0.1, color=\"r\")\n",
        "plt.fill_between(train_sizes, validation_scores_mean - validation_scores_std,\n",
        "                 validation_scores_mean + validation_scores_std, alpha=0.1, color=\"g\")\n",
        "plt.plot(train_sizes, train_scores_mean, 'o-', color=\"r\", label=\"Training score\")\n",
        "plt.plot(train_sizes, validation_scores_mean, 'o-', color=\"g\", label=\"Cross-validation score\")\n",
        "plt.title('Learning curve')\n",
        "plt.xlabel('Training examples')\n",
        "plt.ylabel('Negative MSE')\n",
        "plt.legend(loc=\"best\")\n",
        "plt.show()\n"
      ],
      "metadata": {
        "execution": {
          "iopub.status.busy": "2024-01-03T23:24:57.023409Z",
          "iopub.execute_input": "2024-01-03T23:24:57.023849Z",
          "iopub.status.idle": "2024-01-03T23:24:57.828384Z",
          "shell.execute_reply.started": "2024-01-03T23:24:57.023813Z",
          "shell.execute_reply": "2024-01-03T23:24:57.827141Z"
        },
        "trusted": true,
        "colab": {
          "base_uri": "https://localhost:8080/",
          "height": 472
        },
        "id": "J4aokUKdPN7_",
        "outputId": "564d28f4-9ab5-462b-f7c7-a94bd3de4fb2"
      },
      "execution_count": 24,
      "outputs": [
        {
          "output_type": "display_data",
          "data": {
            "text/plain": [
              "<Figure size 640x480 with 1 Axes>"
            ],
            "image/png": "[encoded data removed]"
          },
          "metadata": {}
        }
      ]
    },
    {
      "cell_type": "code",
      "source": [
        "from sklearn.model_selection import cross_val_score\n",
        "import numpy as np\n",
        "import matplotlib.pyplot as plt\n",
        "\n",
        "def get_cv_scores(model, x_train, y_train):\n",
        "    scores = cross_val_score(model, x_train, y_train, cv=5, scoring='r2')\n",
        "    return scores\n",
        "\n",
        "# Assuming 'linear_regression' is your Linear Regression model\n",
        "# and 'x_train', 'y_train' are your training data\n",
        "scores = get_cv_scores(model, x_train, y_train)\n",
        "\n",
        "# Now let's plot the scores\n",
        "plt.figure()\n",
        "plt.plot(range(1, len(scores) + 1), scores, marker='o', linestyle='-', color='r')\n",
        "plt.xlabel('Fold')\n",
        "plt.ylabel('R^2 Score')\n",
        "plt.title('Cross-Validation R^2 Scores')\n",
        "plt.ylim(0, 1)  # Assuming R^2 scores will be between 0 and 1\n",
        "plt.xticks(range(1, len(scores) + 1))\n",
        "plt.show()\n",
        "\n",
        "print('CV Mean: ', np.mean(scores))\n",
        "print('STD: ', np.std(scores))"
      ],
      "metadata": {
        "execution": {
          "iopub.status.busy": "2024-01-03T23:24:57.829831Z",
          "iopub.execute_input": "2024-01-03T23:24:57.830216Z",
          "iopub.status.idle": "2024-01-03T23:24:58.243561Z",
          "shell.execute_reply.started": "2024-01-03T23:24:57.830184Z",
          "shell.execute_reply": "2024-01-03T23:24:58.242422Z"
        },
        "trusted": true,
        "colab": {
          "base_uri": "https://localhost:8080/",
          "height": 507
        },
        "id": "8fLg6CA4PN8A",
        "outputId": "4f68d05b-369c-4184-d3fc-3ccd525cbc78"
      },
      "execution_count": 25,
      "outputs": [
        {
          "output_type": "display_data",
          "data": {
            "text/plain": [
              "<Figure size 640x480 with 1 Axes>"
            ],
            "image/png": "[encoded data removed]"
          },
          "metadata": {}
        },
        {
          "output_type": "stream",
          "name": "stdout",
          "text": [
            "CV Mean:  0.7833516356354834\n",
            "STD:  0.052717035585999474\n"
          ]
        }
      ]
    },
    {
      "cell_type": "markdown",
      "source": [
        "# Evaluate regressors with Leave-One-Out Cross-Validation"
      ],
      "metadata": {
        "id": "-du1rKFAPN8A"
      }
    },
    {
      "cell_type": "code",
      "source": [
        "from sklearn.metrics import mean_squared_error\n",
        "from sklearn.model_selection import LeaveOneOut\n",
        "\n",
        "def evaluate_regressors_loocv_column_drop(x, y, regressors):\n",
        "    loo = LeaveOneOut()\n",
        "    best_column_to_drop = None\n",
        "    overall_best_avg_rmse = float('inf')\n",
        "    best_regressor_name = ''\n",
        "\n",
        "    columns = x.columns.tolist()\n",
        "    results = {}\n",
        "\n",
        "    for name, model in regressors:\n",
        "        print('Results for', name)\n",
        "        for column in columns:\n",
        "            rms_values = []\n",
        "            x_dropped = x.drop(column, axis=1)\n",
        "            for train_index, test_index in loo.split(x_dropped):\n",
        "                x_train, x_test = x_dropped.iloc[train_index], x_dropped.iloc[test_index]\n",
        "                y_train, y_test = y.iloc[train_index], y.iloc[test_index]\n",
        "\n",
        "                model.fit(x_train, y_train)\n",
        "                predictions = model.predict(x_test)\n",
        "                rms = np.sqrt(mean_squared_error(y_test, predictions))\n",
        "                rms_values.append(rms)\n",
        "\n",
        "            average_rmse = np.mean(rms_values)\n",
        "            print(f'Average RMSE dropping {column}: {average_rmse}')\n",
        "\n",
        "            if average_rmse < overall_best_avg_rmse:\n",
        "                overall_best_avg_rmse = average_rmse\n",
        "                best_regressor_name = name\n",
        "                best_column_to_drop = column\n",
        "\n",
        "            results[(name, column)] = average_rmse\n",
        "\n",
        "    print(f'\\nBest regressor and column to drop for least average RMSE: {best_regressor_name}, dropping column {best_column_to_drop} with an average RMSE of {overall_best_avg_rmse}')\n",
        "    return results"
      ],
      "metadata": {
        "execution": {
          "iopub.status.busy": "2024-01-03T23:24:58.245154Z",
          "iopub.execute_input": "2024-01-03T23:24:58.246226Z",
          "iopub.status.idle": "2024-01-03T23:24:58.259282Z",
          "shell.execute_reply.started": "2024-01-03T23:24:58.246183Z",
          "shell.execute_reply": "2024-01-03T23:24:58.258349Z"
        },
        "trusted": true,
        "id": "uOJVd1yTPN8F"
      },
      "execution_count": 26,
      "outputs": []
    },
    {
      "cell_type": "code",
      "source": [
        "# Evaluate regressors with LOOCV and column dropping\n",
        "#results = evaluate_regressors_loocv_column_drop(x, y, regressors)"
      ],
      "metadata": {
        "execution": {
          "iopub.status.busy": "2024-01-03T23:24:58.260737Z",
          "iopub.execute_input": "2024-01-03T23:24:58.262118Z",
          "iopub.status.idle": "2024-01-03T23:24:58.276531Z",
          "shell.execute_reply.started": "2024-01-03T23:24:58.262072Z",
          "shell.execute_reply": "2024-01-03T23:24:58.275283Z"
        },
        "trusted": true,
        "id": "OdbZ8JIpPN8F"
      },
      "execution_count": 27,
      "outputs": []
    },
    {
      "cell_type": "markdown",
      "source": [
        "**Dropping SOP since it decreases the RMSE value**"
      ],
      "metadata": {
        "id": "1ama8tr5PN8F"
      }
    },
    {
      "cell_type": "code",
      "source": [
        "X=df.drop(['Admit Possibilty', 'SOP'], axis='columns')\n",
        "#x=Reading.drop('Admit Possibilty',axis='columns')\n",
        "y=df['Admit Possibilty']\n",
        "X_train,X_test,y_train,y_test=train_test_split(X, y, random_state=32)"
      ],
      "metadata": {
        "execution": {
          "iopub.status.busy": "2024-01-03T23:24:58.278121Z",
          "iopub.execute_input": "2024-01-03T23:24:58.278639Z",
          "iopub.status.idle": "2024-01-03T23:24:58.291710Z",
          "shell.execute_reply.started": "2024-01-03T23:24:58.278596Z",
          "shell.execute_reply": "2024-01-03T23:24:58.290389Z"
        },
        "trusted": true,
        "id": "l8yh38S3PN8F"
      },
      "execution_count": 49,
      "outputs": []
    },
    {
      "cell_type": "markdown",
      "source": [
        "**Double checking if the training and testing shapes are as expected**"
      ],
      "metadata": {
        "id": "HGOIeSaTPN8G"
      }
    },
    {
      "cell_type": "code",
      "source": [
        "X_train.shape"
      ],
      "metadata": {
        "execution": {
          "iopub.status.busy": "2024-01-03T23:24:58.293585Z",
          "iopub.execute_input": "2024-01-03T23:24:58.294602Z",
          "iopub.status.idle": "2024-01-03T23:24:58.302590Z",
          "shell.execute_reply.started": "2024-01-03T23:24:58.294561Z",
          "shell.execute_reply": "2024-01-03T23:24:58.301401Z"
        },
        "trusted": true,
        "colab": {
          "base_uri": "https://localhost:8080/"
        },
        "id": "9CDl2APBPN8G",
        "outputId": "11995618-50d1-4672-cf1b-dde109384367"
      },
      "execution_count": 50,
      "outputs": [
        {
          "output_type": "execute_result",
          "data": {
            "text/plain": [
              "(300, 6)"
            ]
          },
          "metadata": {},
          "execution_count": 50
        }
      ]
    },
    {
      "cell_type": "code",
      "source": [
        "X_test.shape"
      ],
      "metadata": {
        "execution": {
          "iopub.status.busy": "2024-01-03T23:24:58.304358Z",
          "iopub.execute_input": "2024-01-03T23:24:58.305115Z",
          "iopub.status.idle": "2024-01-03T23:24:58.322706Z",
          "shell.execute_reply.started": "2024-01-03T23:24:58.305072Z",
          "shell.execute_reply": "2024-01-03T23:24:58.320110Z"
        },
        "trusted": true,
        "colab": {
          "base_uri": "https://localhost:8080/"
        },
        "id": "lGdogicJPN8G",
        "outputId": "1a390c4c-8d59-46f3-a319-309cfbcee2da"
      },
      "execution_count": 51,
      "outputs": [
        {
          "output_type": "execute_result",
          "data": {
            "text/plain": [
              "(100, 6)"
            ]
          },
          "metadata": {},
          "execution_count": 51
        }
      ]
    },
    {
      "cell_type": "code",
      "source": [
        "y_train.shape"
      ],
      "metadata": {
        "execution": {
          "iopub.status.busy": "2024-01-03T23:24:58.324130Z",
          "iopub.execute_input": "2024-01-03T23:24:58.325019Z",
          "iopub.status.idle": "2024-01-03T23:24:58.332350Z",
          "shell.execute_reply.started": "2024-01-03T23:24:58.324974Z",
          "shell.execute_reply": "2024-01-03T23:24:58.331129Z"
        },
        "trusted": true,
        "colab": {
          "base_uri": "https://localhost:8080/"
        },
        "id": "zDWA0wXqPN8G",
        "outputId": "e40ec4bd-1393-44c8-9c68-544c676b34b0"
      },
      "execution_count": 52,
      "outputs": [
        {
          "output_type": "execute_result",
          "data": {
            "text/plain": [
              "(300,)"
            ]
          },
          "metadata": {},
          "execution_count": 52
        }
      ]
    },
    {
      "cell_type": "code",
      "source": [
        "y_test.shape"
      ],
      "metadata": {
        "execution": {
          "iopub.status.busy": "2024-01-03T23:24:58.333803Z",
          "iopub.execute_input": "2024-01-03T23:24:58.334707Z",
          "iopub.status.idle": "2024-01-03T23:24:58.344285Z",
          "shell.execute_reply.started": "2024-01-03T23:24:58.334665Z",
          "shell.execute_reply": "2024-01-03T23:24:58.343216Z"
        },
        "trusted": true,
        "colab": {
          "base_uri": "https://localhost:8080/"
        },
        "id": "rdO_lYetPN8H",
        "outputId": "edeac00f-2e2a-409a-b987-70cfa206f6ca"
      },
      "execution_count": 53,
      "outputs": [
        {
          "output_type": "execute_result",
          "data": {
            "text/plain": [
              "(100,)"
            ]
          },
          "metadata": {},
          "execution_count": 53
        }
      ]
    },
    {
      "cell_type": "code",
      "source": [
        "regressors=[['Linear Regression :',LinearRegression()],\n",
        "       ['Decision Tree Regression :',DecisionTreeRegressor()],\n",
        "       ['Random Forest Regression :',RandomForestRegressor()],\n",
        "       ['Gradient Boosting Regression :', GradientBoostingRegressor()],\n",
        "       ['Ada Boosting Regression :',AdaBoostRegressor()],\n",
        "       ['Extra Tree Regression :', ExtraTreesRegressor()],\n",
        "       ['K-Neighbors Regression :',KNeighborsRegressor()],\n",
        "       ['Support Vector Regression :',SVR()],\n",
        "       ['XGBoost :',xgb.XGBRegressor()]]\n",
        "reg_pred=[]\n",
        "print('Results...\\n')\n",
        "for name,model in regressors:\n",
        "    model=model\n",
        "    model.fit(x_train,y_train)\n",
        "    predictions = model.predict(x_test)\n",
        "    rms=np.sqrt(mean_squared_error(y_test, predictions))\n",
        "    reg_pred.append(rms)\n",
        "    print(name,rms)"
      ],
      "metadata": {
        "execution": {
          "iopub.status.busy": "2024-01-03T23:24:58.345978Z",
          "iopub.execute_input": "2024-01-03T23:24:58.346621Z",
          "iopub.status.idle": "2024-01-03T23:24:59.361625Z",
          "shell.execute_reply.started": "2024-01-03T23:24:58.346582Z",
          "shell.execute_reply": "2024-01-03T23:24:59.360696Z"
        },
        "trusted": true,
        "colab": {
          "base_uri": "https://localhost:8080/"
        },
        "id": "tpP85HtaPN8H",
        "outputId": "b3b8a295-d57c-4359-989b-4312821d06f5"
      },
      "execution_count": 33,
      "outputs": [
        {
          "output_type": "stream",
          "name": "stdout",
          "text": [
            "Results...\n",
            "\n",
            "Linear Regression : 0.06769807673023129\n",
            "Decision Tree Regression : 0.1006677704133751\n",
            "Random Forest Regression : 0.07181163136985537\n",
            "Gradient Boosting Regression : 0.07556435113175743\n",
            "Ada Boosting Regression : 0.08259057803405977\n",
            "Extra Tree Regression : 0.07176957572676596\n",
            "K-Neighbors Regression : 0.08746702235700037\n",
            "Support Vector Regression : 0.09153055957683294\n",
            "XGBoost : 0.07985698288854387\n"
          ]
        }
      ]
    },
    {
      "cell_type": "markdown",
      "source": [
        "**Plotting a graph to visualize RMSE value of each regressor after dropping SOP**"
      ],
      "metadata": {
        "id": "3dKrDJRoPN8H"
      }
    },
    {
      "cell_type": "code",
      "source": [
        "y_ax=['Linear Regression' ,'Decision Tree Regression', 'Random Forest Regression','Gradient Boosting Regression', 'Ada Boosting Regression','Extra Tree Regression' ,'K-Neighbors Regression', 'Support Vector Regression', 'XGBoost' ]\n",
        "x_ax=reg_pred"
      ],
      "metadata": {
        "execution": {
          "iopub.status.busy": "2024-01-03T23:24:59.366531Z",
          "iopub.execute_input": "2024-01-03T23:24:59.369191Z",
          "iopub.status.idle": "2024-01-03T23:24:59.375744Z",
          "shell.execute_reply.started": "2024-01-03T23:24:59.369149Z",
          "shell.execute_reply": "2024-01-03T23:24:59.374932Z"
        },
        "trusted": true,
        "id": "ni3F8JOxPN8H"
      },
      "execution_count": 34,
      "outputs": []
    },
    {
      "cell_type": "code",
      "source": [
        "sns.barplot(x=x_ax,y=y_ax,linewidth=1.5,edgecolor=\"0.1\")"
      ],
      "metadata": {
        "execution": {
          "iopub.status.busy": "2024-01-03T23:24:59.377945Z",
          "iopub.execute_input": "2024-01-03T23:24:59.378403Z",
          "iopub.status.idle": "2024-01-03T23:24:59.836095Z",
          "shell.execute_reply.started": "2024-01-03T23:24:59.378370Z",
          "shell.execute_reply": "2024-01-03T23:24:59.835094Z"
        },
        "trusted": true,
        "colab": {
          "base_uri": "https://localhost:8080/",
          "height": 447
        },
        "id": "cmCwW29XPN8H",
        "outputId": "67a6ea4a-6860-4c66-8f59-913349c2fd02"
      },
      "execution_count": 35,
      "outputs": [
        {
          "output_type": "execute_result",
          "data": {
            "text/plain": [
              "<Axes: >"
            ]
          },
          "metadata": {},
          "execution_count": 35
        },
        {
          "output_type": "display_data",
          "data": {
            "text/plain": [
              "<Figure size 640x480 with 1 Axes>"
            ],
            "image/png": "[encoded data removed]"
          },
          "metadata": {}
        }
      ]
    },
    {
      "cell_type": "markdown",
      "source": [
        "# 80.697% accurate on Linear Regression with 42 as seed after dropping SOP"
      ],
      "metadata": {
        "id": "8vz-7ymNPN8I"
      }
    },
    {
      "cell_type": "code",
      "source": [
        "model = LinearRegression()\n",
        "\n",
        "model.fit(X_train, y_train)\n",
        "\n",
        "score = model.score(X_test, y_test)\n",
        "\n",
        "print(\"Model score:\", score * 100)"
      ],
      "metadata": {
        "execution": {
          "iopub.status.busy": "2024-01-03T23:25:49.988214Z",
          "iopub.execute_input": "2024-01-03T23:25:49.988608Z",
          "iopub.status.idle": "2024-01-03T23:25:50.005003Z",
          "shell.execute_reply.started": "2024-01-03T23:25:49.988577Z",
          "shell.execute_reply": "2024-01-03T23:25:50.001009Z"
        },
        "trusted": true,
        "colab": {
          "base_uri": "https://localhost:8080/"
        },
        "id": "ZToTkT3rPN8I",
        "outputId": "99fdfc64-c9fe-490c-e74e-3b4b75400263"
      },
      "execution_count": 54,
      "outputs": [
        {
          "output_type": "stream",
          "name": "stdout",
          "text": [
            "Model score: 80.69798632411977\n"
          ]
        }
      ]
    },
    {
      "cell_type": "code",
      "source": [
        "import numpy as np\n",
        "import matplotlib.pyplot as plt\n",
        "from sklearn.linear_model import LinearRegression\n",
        "from sklearn.model_selection import learning_curve\n",
        "\n",
        "model = LinearRegression()\n",
        "\n",
        "# Compute the learning curves\n",
        "train_sizes, train_scores, validation_scores = learning_curve(\n",
        "    estimator = model,\n",
        "    X = x_train,\n",
        "    y = y_train,\n",
        "    train_sizes = np.linspace(0.1, 1.0, 10),\n",
        "    cv = 5,\n",
        "    scoring = 'neg_mean_squared_error'\n",
        ")\n",
        "\n",
        "# Calculate the mean and standard deviation of the training and validation scores\n",
        "train_scores_mean = -train_scores.mean(axis = 1)\n",
        "validation_scores_mean = -validation_scores.mean(axis = 1)\n",
        "train_scores_std = train_scores.std(axis = 1)\n",
        "validation_scores_std = validation_scores.std(axis = 1)\n",
        "\n",
        "# Plot the learning curves\n",
        "plt.figure()\n",
        "plt.fill_between(train_sizes, train_scores_mean - train_scores_std,\n",
        "                 train_scores_mean + train_scores_std, alpha=0.1, color=\"r\")\n",
        "plt.fill_between(train_sizes, validation_scores_mean - validation_scores_std,\n",
        "                 validation_scores_mean + validation_scores_std, alpha=0.1, color=\"g\")\n",
        "plt.plot(train_sizes, train_scores_mean, 'o-', color=\"r\", label=\"Training score\")\n",
        "plt.plot(train_sizes, validation_scores_mean, 'o-', color=\"g\", label=\"Cross-validation score\")\n",
        "plt.title('Learning curve')\n",
        "plt.xlabel('Training examples')\n",
        "plt.ylabel('Negative MSE')\n",
        "plt.legend(loc=\"best\")\n",
        "plt.show()\n"
      ],
      "metadata": {
        "execution": {
          "iopub.status.busy": "2024-01-03T23:24:59.851782Z",
          "iopub.execute_input": "2024-01-03T23:24:59.852157Z",
          "iopub.status.idle": "2024-01-03T23:25:00.640227Z",
          "shell.execute_reply.started": "2024-01-03T23:24:59.852126Z",
          "shell.execute_reply": "2024-01-03T23:25:00.639112Z"
        },
        "trusted": true,
        "colab": {
          "base_uri": "https://localhost:8080/",
          "height": 472
        },
        "id": "V0nj7YJ4PN8I",
        "outputId": "568a1e7f-ae5c-4e75-c5dc-56049124f2f5"
      },
      "execution_count": 55,
      "outputs": [
        {
          "output_type": "display_data",
          "data": {
            "text/plain": [
              "<Figure size 640x480 with 1 Axes>"
            ],
            "image/png": "[encoded data removed]"
          },
          "metadata": {}
        }
      ]
    },
    {
      "cell_type": "code",
      "source": [
        "from sklearn.model_selection import cross_val_score\n",
        "import numpy as np\n",
        "import matplotlib.pyplot as plt\n",
        "\n",
        "def get_cv_scores(model, X_train, y_train):\n",
        "    scores = cross_val_score(model, X_train, y_train, cv=5, scoring='r2')\n",
        "    return scores\n",
        "\n",
        "\n",
        "scores = get_cv_scores(model, X_train, y_train)\n",
        "\n",
        "# Now let's plot the scores\n",
        "plt.figure()\n",
        "plt.plot(range(1, len(scores) + 1), scores, marker='o', linestyle='-', color='r')\n",
        "plt.xlabel('Fold')\n",
        "plt.ylabel('R^2 Score')\n",
        "plt.title('Cross-Validation R^2 Scores')\n",
        "plt.ylim(0, 1)  # Assuming R^2 scores will be between 0 and 1\n",
        "plt.xticks(range(1, len(scores) + 1))\n",
        "plt.show()\n",
        "\n",
        "print('CV Mean: ', np.mean(scores))\n",
        "print('STD: ', np.std(scores))"
      ],
      "metadata": {
        "execution": {
          "iopub.status.busy": "2024-01-03T23:25:00.641758Z",
          "iopub.execute_input": "2024-01-03T23:25:00.642136Z",
          "iopub.status.idle": "2024-01-03T23:25:01.012532Z",
          "shell.execute_reply.started": "2024-01-03T23:25:00.642103Z",
          "shell.execute_reply": "2024-01-03T23:25:01.011693Z"
        },
        "trusted": true,
        "colab": {
          "base_uri": "https://localhost:8080/",
          "height": 507
        },
        "id": "3VuFLBcIPN8I",
        "outputId": "bde09f3e-fc38-4c03-ac48-e4f2cc89dd81"
      },
      "execution_count": 56,
      "outputs": [
        {
          "output_type": "display_data",
          "data": {
            "text/plain": [
              "<Figure size 640x480 with 1 Axes>"
            ],
            "image/png": "[encoded data removed]"
          },
          "metadata": {}
        },
        {
          "output_type": "stream",
          "name": "stdout",
          "text": [
            "CV Mean:  0.7863877178474055\n",
            "STD:  0.053990740842246546\n"
          ]
        }
      ]
    },
    {
      "cell_type": "markdown",
      "source": [
        "**Testing an input from user**"
      ],
      "metadata": {
        "id": "fuZINnGUPN8J"
      }
    },
    {
      "cell_type": "code",
      "source": [
        "print('The chance of you getting an admit in the US is {}%'.format(round(model.predict([[305, 108, 4, 4.5, 8.35, 0]])[0]*100, 1)))"
      ],
      "metadata": {
        "execution": {
          "iopub.status.busy": "2024-01-03T23:25:53.398410Z",
          "iopub.execute_input": "2024-01-03T23:25:53.398787Z",
          "iopub.status.idle": "2024-01-03T23:25:53.406787Z",
          "shell.execute_reply.started": "2024-01-03T23:25:53.398758Z",
          "shell.execute_reply": "2024-01-03T23:25:53.405237Z"
        },
        "trusted": true,
        "colab": {
          "base_uri": "https://localhost:8080/"
        },
        "id": "Et6jbFrTPN8J",
        "outputId": "36d70764-16f1-4647-fb22-6edf0dd648bc"
      },
      "execution_count": 60,
      "outputs": [
        {
          "output_type": "stream",
          "name": "stdout",
          "text": [
            "The chance of you getting an admit in the US is 68.5%\n"
          ]
        }
      ]
    },
    {
      "cell_type": "code",
      "source": [
        "print('The chance of you getting an admit in the US is {}%'.format(round(model.predict([[340, 120, 5, 5, 10, 1]])[0]*100, 1)))"
      ],
      "metadata": {
        "execution": {
          "iopub.status.busy": "2024-01-03T23:26:06.648723Z",
          "iopub.execute_input": "2024-01-03T23:26:06.649150Z",
          "iopub.status.idle": "2024-01-03T23:26:06.656446Z",
          "shell.execute_reply.started": "2024-01-03T23:26:06.649117Z",
          "shell.execute_reply": "2024-01-03T23:26:06.654993Z"
        },
        "trusted": true,
        "colab": {
          "base_uri": "https://localhost:8080/"
        },
        "id": "M9G9qsGYPN8J",
        "outputId": "81a92b4f-b98a-4072-9a30-967b8c9b71ef"
      },
      "execution_count": 61,
      "outputs": [
        {
          "output_type": "stream",
          "name": "stdout",
          "text": [
            "The chance of you getting an admit in the US is 101.8%\n"
          ]
        }
      ]
    },
    {
      "cell_type": "code",
      "source": [],
      "metadata": {
        "id": "z2QgAoM0QKQS"
      },
      "execution_count": null,
      "outputs": []
    }
  ]
}